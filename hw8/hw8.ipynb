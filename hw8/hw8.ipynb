{
 "cells": [
  {
   "cell_type": "code",
   "execution_count": 38,
   "id": "12c1da19",
   "metadata": {},
   "outputs": [],
   "source": [
    "import pandas as pd\n",
    "import numpy as np\n",
    "import scipy.stats as st\n",
    "import math\n",
    "import matplotlib.pyplot as plt\n",
    "import matplotlib\n",
    "import seaborn as sns\n",
    "from pylab import rcParams\n",
    "rcParams['figure.figsize'] = 13, 7"
   ]
  },
  {
   "cell_type": "markdown",
   "id": "f35fcbd1",
   "metadata": {},
   "source": [
    "### Задание 1\n",
    "Вернемся к набору данных о видеоиграх.\n",
    "\n",
    "Ответьте на следующие вопросы:\n",
    "\n",
    "- Как критики относятся к спортивным играм?\n",
    "- Критикам нравятся больше игры на PC или на PS4?\n",
    "- Критикам больше нравятся стрелялки или стратегии?\n",
    "\n",
    "\n",
    "Для каждого вопроса:\n",
    "\n",
    "- сформулируйте нулевую и альтернативную гипотезы;\n",
    "- выберите пороговый уровень статистической значимости;\n",
    "- опишите полученные результаты статистического теста.\n"
   ]
  },
  {
   "cell_type": "markdown",
   "id": "b504684c",
   "metadata": {},
   "source": [
    "#### Как критики относятся к спортивным играм?"
   ]
  },
  {
   "cell_type": "code",
   "execution_count": 2,
   "id": "687c9725",
   "metadata": {},
   "outputs": [],
   "source": [
    "df = pd.read_csv('https://raw.githubusercontent.com/obulygin/pyda_homeworks/master/stat_case_study/vgsales.csv')"
   ]
  },
  {
   "cell_type": "code",
   "execution_count": 3,
   "id": "19cabbbb",
   "metadata": {
    "scrolled": false
   },
   "outputs": [
    {
     "data": {
      "text/html": [
       "<div>\n",
       "<style scoped>\n",
       "    .dataframe tbody tr th:only-of-type {\n",
       "        vertical-align: middle;\n",
       "    }\n",
       "\n",
       "    .dataframe tbody tr th {\n",
       "        vertical-align: top;\n",
       "    }\n",
       "\n",
       "    .dataframe thead th {\n",
       "        text-align: right;\n",
       "    }\n",
       "</style>\n",
       "<table border=\"1\" class=\"dataframe\">\n",
       "  <thead>\n",
       "    <tr style=\"text-align: right;\">\n",
       "      <th></th>\n",
       "      <th>Genre</th>\n",
       "      <th>Critic_Score</th>\n",
       "      <th>Critic_Count</th>\n",
       "      <th>Total_Score</th>\n",
       "    </tr>\n",
       "  </thead>\n",
       "  <tbody>\n",
       "    <tr>\n",
       "      <th>0</th>\n",
       "      <td>Sports</td>\n",
       "      <td>76.0</td>\n",
       "      <td>51.0</td>\n",
       "      <td>3876.0</td>\n",
       "    </tr>\n",
       "    <tr>\n",
       "      <th>2</th>\n",
       "      <td>Racing</td>\n",
       "      <td>82.0</td>\n",
       "      <td>73.0</td>\n",
       "      <td>5986.0</td>\n",
       "    </tr>\n",
       "    <tr>\n",
       "      <th>3</th>\n",
       "      <td>Sports</td>\n",
       "      <td>80.0</td>\n",
       "      <td>73.0</td>\n",
       "      <td>5840.0</td>\n",
       "    </tr>\n",
       "    <tr>\n",
       "      <th>6</th>\n",
       "      <td>Platform</td>\n",
       "      <td>89.0</td>\n",
       "      <td>65.0</td>\n",
       "      <td>5785.0</td>\n",
       "    </tr>\n",
       "    <tr>\n",
       "      <th>7</th>\n",
       "      <td>Misc</td>\n",
       "      <td>58.0</td>\n",
       "      <td>41.0</td>\n",
       "      <td>2378.0</td>\n",
       "    </tr>\n",
       "  </tbody>\n",
       "</table>\n",
       "</div>"
      ],
      "text/plain": [
       "      Genre  Critic_Score  Critic_Count  Total_Score\n",
       "0    Sports          76.0          51.0       3876.0\n",
       "2    Racing          82.0          73.0       5986.0\n",
       "3    Sports          80.0          73.0       5840.0\n",
       "6  Platform          89.0          65.0       5785.0\n",
       "7      Misc          58.0          41.0       2378.0"
      ]
     },
     "execution_count": 3,
     "metadata": {},
     "output_type": "execute_result"
    }
   ],
   "source": [
    "#Преобразуем наш начальный DataFrame и почистим его от NaN. \n",
    "# Так как количество NAN в строкас количеством и значением оценок совпадает, можем их просто удалить.\n",
    "\n",
    "games = df[['Genre', 'Critic_Score', 'Critic_Count']].copy()\n",
    "games['Total_Score'] = games['Critic_Count'] * games['Critic_Score']\n",
    "games.dropna(axis=0, inplace=True)\n",
    "games.head()"
   ]
  },
  {
   "cell_type": "code",
   "execution_count": 4,
   "id": "3a1a7179",
   "metadata": {},
   "outputs": [],
   "source": [
    "# Сделаем фильтры под каждый жанр игры, для дисперсионного анализа\n",
    "Action = games[games['Genre'] == 'Action']\n",
    "Sports = games[games['Genre'] == 'Sports']\n",
    "Shooter = games[games['Genre'] == 'Shooter']\n",
    "Racing = games[games['Genre'] == 'Racing']\n",
    "Role = games[games['Genre'] == 'Role-Playing']\n",
    "Misc = games[games['Genre'] == 'Misc']\n",
    "Platform = games[games['Genre'] == 'Platform']\n",
    "Fighting = games[games['Genre'] == 'Fighting']\n",
    "Simulation = games[games['Genre'] == 'Simulation']\n",
    "Adventure = games[games['Genre'] == 'Adventure']\n",
    "Strategy = games[games['Genre'] == 'Strategy']\n",
    "Puzzle = games[games['Genre'] == 'Puzzle']"
   ]
  },
  {
   "cell_type": "code",
   "execution_count": 5,
   "id": "3925dfdf",
   "metadata": {},
   "outputs": [
    {
     "name": "stdout",
     "output_type": "stream",
     "text": [
      "Статистика = 42.96973, p = 0.0000000000\n",
      "Отклоняем нулевую гипотезу, распределения, вероятно, различаются\n"
     ]
    }
   ],
   "source": [
    "# Дисперсионный анализ. Результат - отколняем нулевую гипотезу.\n",
    "f_value_1, p_value_1 = st.f_oneway(Action['Total_Score'], Sports['Total_Score'], Shooter['Total_Score'], Racing['Total_Score'], \\\n",
    "                      Role['Total_Score'], Misc['Total_Score'], Platform['Total_Score'], Fighting['Total_Score'], \\\n",
    "                      Simulation['Total_Score'], Adventure['Total_Score'], Strategy['Total_Score'], Puzzle['Total_Score'])\n",
    "\n",
    "print(f\"Статистика = {f_value_1:.5f}, p = {p_value_1:.10f}\")\n",
    "\n",
    "if p_value_1 > 0.05:\n",
    "    print('Не отклоняем нулевую гипотезу, распределения, вероятно, одинаковые')\n",
    "else:\n",
    "    print('Отклоняем нулевую гипотезу, распределения, вероятно, различаются')"
   ]
  },
  {
   "cell_type": "code",
   "execution_count": 6,
   "id": "da13a933",
   "metadata": {},
   "outputs": [
    {
     "data": {
      "text/html": [
       "<div>\n",
       "<style scoped>\n",
       "    .dataframe tbody tr th:only-of-type {\n",
       "        vertical-align: middle;\n",
       "    }\n",
       "\n",
       "    .dataframe tbody tr th {\n",
       "        vertical-align: top;\n",
       "    }\n",
       "\n",
       "    .dataframe thead th {\n",
       "        text-align: right;\n",
       "    }\n",
       "</style>\n",
       "<table border=\"1\" class=\"dataframe\">\n",
       "  <thead>\n",
       "    <tr style=\"text-align: right;\">\n",
       "      <th></th>\n",
       "      <th>Critic_Score</th>\n",
       "      <th>Critic_Count</th>\n",
       "      <th>Mean</th>\n",
       "    </tr>\n",
       "    <tr>\n",
       "      <th>Genre</th>\n",
       "      <th></th>\n",
       "      <th></th>\n",
       "      <th></th>\n",
       "    </tr>\n",
       "  </thead>\n",
       "  <tbody>\n",
       "    <tr>\n",
       "      <th>Shooter</th>\n",
       "      <td>66251.0</td>\n",
       "      <td>33616.0</td>\n",
       "      <td>1.970817</td>\n",
       "    </tr>\n",
       "    <tr>\n",
       "      <th>Role-Playing</th>\n",
       "      <td>53545.0</td>\n",
       "      <td>23945.0</td>\n",
       "      <td>2.236166</td>\n",
       "    </tr>\n",
       "    <tr>\n",
       "      <th>Action</th>\n",
       "      <td>125929.0</td>\n",
       "      <td>52506.0</td>\n",
       "      <td>2.398374</td>\n",
       "    </tr>\n",
       "    <tr>\n",
       "      <th>Fighting</th>\n",
       "      <td>28310.0</td>\n",
       "      <td>11415.0</td>\n",
       "      <td>2.480070</td>\n",
       "    </tr>\n",
       "    <tr>\n",
       "      <th>Strategy</th>\n",
       "      <td>21770.0</td>\n",
       "      <td>8538.0</td>\n",
       "      <td>2.549777</td>\n",
       "    </tr>\n",
       "    <tr>\n",
       "      <th>Platform</th>\n",
       "      <td>33825.0</td>\n",
       "      <td>11778.0</td>\n",
       "      <td>2.871880</td>\n",
       "    </tr>\n",
       "    <tr>\n",
       "      <th>Racing</th>\n",
       "      <td>50429.0</td>\n",
       "      <td>17087.0</td>\n",
       "      <td>2.951308</td>\n",
       "    </tr>\n",
       "    <tr>\n",
       "      <th>Adventure</th>\n",
       "      <td>21102.0</td>\n",
       "      <td>7143.0</td>\n",
       "      <td>2.954221</td>\n",
       "    </tr>\n",
       "    <tr>\n",
       "      <th>Misc</th>\n",
       "      <td>34842.0</td>\n",
       "      <td>11262.0</td>\n",
       "      <td>3.093767</td>\n",
       "    </tr>\n",
       "    <tr>\n",
       "      <th>Simulation</th>\n",
       "      <td>24154.0</td>\n",
       "      <td>7549.0</td>\n",
       "      <td>3.199629</td>\n",
       "    </tr>\n",
       "    <tr>\n",
       "      <th>Puzzle</th>\n",
       "      <td>15103.0</td>\n",
       "      <td>4549.0</td>\n",
       "      <td>3.320070</td>\n",
       "    </tr>\n",
       "    <tr>\n",
       "      <th>Sports</th>\n",
       "      <td>85930.0</td>\n",
       "      <td>25110.0</td>\n",
       "      <td>3.422143</td>\n",
       "    </tr>\n",
       "  </tbody>\n",
       "</table>\n",
       "</div>"
      ],
      "text/plain": [
       "              Critic_Score  Critic_Count      Mean\n",
       "Genre                                             \n",
       "Shooter            66251.0       33616.0  1.970817\n",
       "Role-Playing       53545.0       23945.0  2.236166\n",
       "Action            125929.0       52506.0  2.398374\n",
       "Fighting           28310.0       11415.0  2.480070\n",
       "Strategy           21770.0        8538.0  2.549777\n",
       "Platform           33825.0       11778.0  2.871880\n",
       "Racing             50429.0       17087.0  2.951308\n",
       "Adventure          21102.0        7143.0  2.954221\n",
       "Misc               34842.0       11262.0  3.093767\n",
       "Simulation         24154.0        7549.0  3.199629\n",
       "Puzzle             15103.0        4549.0  3.320070\n",
       "Sports             85930.0       25110.0  3.422143"
      ]
     },
     "execution_count": 6,
     "metadata": {},
     "output_type": "execute_result"
    }
   ],
   "source": [
    "# Преобразуем данные и подсчитаем среднее, для дальнейшей визуализации оценок критиков в зависимости от жанра\n",
    "# Видим, что среднее выше у игр жанра спорт.\n",
    "mean_score = games.groupby('Genre')[['Critic_Score', 'Critic_Count']].sum()\n",
    "mean_score['Mean'] = mean_score['Critic_Score'] / mean_score['Critic_Count']\n",
    "mean_score.sort_values('Mean')"
   ]
  },
  {
   "cell_type": "code",
   "execution_count": 39,
   "id": "90b46649",
   "metadata": {},
   "outputs": [
    {
     "data": {
      "image/png": "[encoded data removed]",
      "text/plain": [
       "<Figure size 936x504 with 1 Axes>"
      ]
     },
     "metadata": {
      "needs_background": "light"
     },
     "output_type": "display_data"
    }
   ],
   "source": [
    "plt.scatter(x=mean_score.index, y=mean_score['Mean'], s=250, marker ='*', \n",
    "            c=(['#1f77b4', '#ff7f0e', '#2ca02c', '#d62728', '#9467bd', '#8c564b', '#e377c2', '#7f7f7f', '#bcbd22', \\\n",
    "                '#17becf', '#ff7f0e', '#2ca02c']))\n",
    "plt.title('Оценки критиков в зависимости от жанра игры', fontdict={'size':14})\n",
    "plt.xlabel(\"Жанр игры\", fontdict={'size':12})\n",
    "plt.ylabel(\"Коэффициент зависимости оценок от количества оценок\", fontdict={'size':12})\n",
    "# plt.legend(loc='upper left', bbox_to_anchor=(1,1), ncol=1)\n",
    "plt.show()"
   ]
  },
  {
   "cell_type": "markdown",
   "id": "99b3ebd9",
   "metadata": {},
   "source": [
    "#### Критикам нравятся больше игры на PC или на PS4?"
   ]
  },
  {
   "cell_type": "code",
   "execution_count": 8,
   "id": "1e85e380",
   "metadata": {},
   "outputs": [],
   "source": [
    "# Генерируем рабочие данные\n",
    "platform = df[['Platform', 'Critic_Score', 'Critic_Count']].copy()\n",
    "platform.dropna(axis=0, inplace=True)\n",
    "PC = platform[platform['Platform'] == 'PC']\n",
    "PS4 = platform[platform['Platform'] == 'PS4']"
   ]
  },
  {
   "cell_type": "code",
   "execution_count": 9,
   "id": "f4137631",
   "metadata": {},
   "outputs": [
    {
     "name": "stdout",
     "output_type": "stream",
     "text": [
      "Статистика = 4.54411, p = 0.0000062158\n",
      "Отклоняем нулевую гипотезу, средние, вероятно, различаются\n"
     ]
    }
   ],
   "source": [
    "# Тест Стьюдента для 2-х выборок\n",
    "stat_2, p_value_2 = st.ttest_ind(PC['Critic_Score'], PS4['Critic_Score'])\n",
    "\n",
    "print(f\"Статистика = {stat_2:.5f}, p = {p_value_2:.10f}\")\n",
    "\n",
    "if p_value_2 > 0.05:\n",
    "    print('Не отклоняем нулевую гипотезу, средние, вероятно, одинаковые')\n",
    "else:\n",
    "    print('Отклоняем нулевую гипотезу, средние, вероятно, различаются')"
   ]
  },
  {
   "cell_type": "code",
   "execution_count": 40,
   "id": "ce969907",
   "metadata": {},
   "outputs": [
    {
     "data": {
      "image/png": "[encoded data removed]",
      "text/plain": [
       "<Figure size 936x504 with 1 Axes>"
      ]
     },
     "metadata": {
      "needs_background": "light"
     },
     "output_type": "display_data"
    }
   ],
   "source": [
    "# Визуализируем и видим, что для PC, оценкок критиков больше. И вроде даже оценки эти выше (хотя однозначно сказать сложно)\n",
    "sns.histplot(PC['Critic_Score'], bins=30, color='blue')\n",
    "sns.histplot(PS4['Critic_Score'], bins=30, color='red')\n",
    "plt.title('Предпочтение критиков среди PC и PS4')\n",
    "plt.xlabel('Оценки', fontdict={'size':13})\n",
    "plt.ylabel('Количество оценок', fontdict={'size':13})\n",
    "plt.legend(['PC', 'PS4'], loc='upper left', bbox_to_anchor=(1,1), ncol=1)\n",
    "plt.show()"
   ]
  },
  {
   "cell_type": "code",
   "execution_count": 41,
   "id": "100d74d1",
   "metadata": {},
   "outputs": [
    {
     "data": {
      "image/png": "[encoded data removed]",
      "text/plain": [
       "<Figure size 936x504 with 1 Axes>"
      ]
     },
     "metadata": {
      "needs_background": "light"
     },
     "output_type": "display_data"
    }
   ],
   "source": [
    "# Мы видим, что оценки критиков для PC в среднем выше, чем для PS4\n",
    "for_scatter = platform.loc[(platform['Platform']=='PC') | (platform['Platform']=='PS4')]\n",
    "sns.boxplot(x='Platform', y='Critic_Score', data=platform[platform['Platform'].isin(['PC', 'PS4'])])\n",
    "plt.title('Предпочтение критиков среди PC и PS4')\n",
    "plt.xlabel('Платформа', fontdict={'size':13})\n",
    "plt.ylabel('Оценки', fontdict={'size':13})\n",
    "plt.show()"
   ]
  },
  {
   "cell_type": "markdown",
   "id": "8313f36f",
   "metadata": {},
   "source": [
    "#### Критикам больше нравятся стрелялки или стратегии?"
   ]
  },
  {
   "cell_type": "code",
   "execution_count": 12,
   "id": "a743917d",
   "metadata": {},
   "outputs": [],
   "source": [
    "# Подготавливаем данные\n",
    "shoot_or_strategy = df[['Genre', 'Critic_Score', 'Critic_Count']].copy()\n",
    "shoot_or_strategy.dropna(axis=0, inplace=True)\n",
    "shooter = shoot_or_strategy.loc[shoot_or_strategy['Genre']=='Shooter']\n",
    "strategy = shoot_or_strategy.loc[shoot_or_strategy['Genre']=='Strategy']"
   ]
  },
  {
   "cell_type": "code",
   "execution_count": 13,
   "id": "870205d4",
   "metadata": {},
   "outputs": [
    {
     "name": "stdout",
     "output_type": "stream",
     "text": [
      "Статистика = -2.06670, p = 0.0389687130\n",
      "Отклоняем нулевую гипотезу, средние, вероятно, различаются\n"
     ]
    }
   ],
   "source": [
    "# Делаем парный тест Стьюдента и отклоняем нулевую гипотезу. Стоит отметить, что p-value, почти, 0.04, что свидетельствует \n",
    "# о том, что при уровне более низком уровне значимости, скажем в 0.01, гипотезу мы бы не отклоняли.\n",
    "stat_3, p_value_3 = st.ttest_ind(shooter['Critic_Score'], strategy['Critic_Score'])\n",
    "\n",
    "print(f\"Статистика = {stat_3:.5f}, p = {p_value_3:.10f}\")\n",
    "\n",
    "if p_value_3 > 0.05:\n",
    "    print('Не отклоняем нулевую гипотезу, средние, вероятно, одинаковые')\n",
    "else:\n",
    "    print('Отклоняем нулевую гипотезу, средние, вероятно, различаются')"
   ]
  },
  {
   "cell_type": "code",
   "execution_count": 42,
   "id": "79c224d4",
   "metadata": {},
   "outputs": [
    {
     "data": {
      "image/png": "[encoded data removed]",
      "text/plain": [
       "<Figure size 936x504 with 1 Axes>"
      ]
     },
     "metadata": {
      "needs_background": "light"
     },
     "output_type": "display_data"
    }
   ],
   "source": [
    "# Из визуализации на гистограммах очевидно больше количество самих оценок, что говорит о большей популярности. \n",
    "# но дать адекватную оценку среднему здесь затруднительно.\n",
    "sns.histplot(shooter['Critic_Score'], bins=30, color='lime')\n",
    "sns.histplot(strategy['Critic_Score'], bins=30, color='indigo')\n",
    "plt.title('Предпочтение критиков среди стрелялок и стратегий')\n",
    "plt.xlabel('Оценки', fontdict={'size':13})\n",
    "plt.ylabel('Количество оценок', fontdict={'size':13})\n",
    "plt.legend(['Стрелялки', 'Стратегии'], loc='upper left', bbox_to_anchor=(1,1), ncol=1)\n",
    "plt.show()"
   ]
  },
  {
   "cell_type": "code",
   "execution_count": 43,
   "id": "bb765e65",
   "metadata": {},
   "outputs": [
    {
     "data": {
      "image/png": "[encoded data removed]",
      "text/plain": [
       "<Figure size 936x504 with 1 Axes>"
      ]
     },
     "metadata": {
      "needs_background": "light"
     },
     "output_type": "display_data"
    }
   ],
   "source": [
    "# Мы видим, что оценки, что дисперсия по обеим границам выше у Стрелялок, но опять же не ясно, у кого выше средний балл.\n",
    "for_scatter_1 = shoot_or_strategy.loc[(shoot_or_strategy['Genre']=='Shooter') | (shoot_or_strategy['Genre']=='Strategy')]\n",
    "sns.boxplot(x='Genre', y='Critic_Score', data=shoot_or_strategy[shoot_or_strategy['Genre'].isin(['Shooter', 'Strategy'])])\n",
    "plt.title('Предпочтение критиков среди стрелялок и стратегий')\n",
    "plt.xlabel('Платформа', fontdict={'size':13})\n",
    "plt.ylabel('Оценки', fontdict={'size':13})\n",
    "plt.show()"
   ]
  },
  {
   "cell_type": "code",
   "execution_count": 44,
   "id": "255f1898",
   "metadata": {},
   "outputs": [
    {
     "data": {
      "image/png": "[encoded data removed]",
      "text/plain": [
       "<Figure size 936x504 with 1 Axes>"
      ]
     },
     "metadata": {
      "needs_background": "light"
     },
     "output_type": "display_data"
    }
   ],
   "source": [
    "# Среднее выше у Стратегий. Вывод, что критикам все же больше нравятся Стратегии.\n",
    "plt.scatter(x=1, y=shooter['Critic_Score'].mean(), s=250, marker='+', color='blue')\n",
    "plt.scatter(x=2, y=strategy['Critic_Score'].mean(), s=250, marker='+', color='purple')\n",
    "\n",
    "plt.title('Предпочтение критиков среди стрелялок и стратегий')\n",
    "plt.ylabel('Средняя оценка', fontdict={'size':13})\n",
    "plt.xlim(0, 3)\n",
    "plt.ylim(69, 73)\n",
    "plt.text(x=1, y=shooter['Critic_Score'].mean()+0.2, s=round(shooter['Critic_Score'].mean(), 4), horizontalalignment='center', verticalalignment='bottom', fontdict={'size':13})\n",
    "plt.text(x=2, y=strategy['Critic_Score'].mean()+0.2, s=round(strategy['Critic_Score'].mean(), 4), horizontalalignment='center', verticalalignment='bottom', fontdict={'size':13})\n",
    "plt.legend(['Стрелялки', 'Стратегии'], loc='upper left', bbox_to_anchor=(1,1), ncol=1)\n",
    "plt.show()"
   ]
  },
  {
   "cell_type": "markdown",
   "id": "12b93f95",
   "metadata": {},
   "source": [
    "### Задание 2\n",
    "Реализуйте базовую модель логистической регрессии для классификации текстовых сообщений (используемые данные здесь) по признаку спама. Для этого:\n",
    "\n",
    "1) Привидите весь текст к нижнему регистру;\n",
    "\n",
    "2) Удалите мусорные символы;\n",
    "\n",
    "3) Удалите стоп-слова;\n",
    "\n",
    "4) Привидите все слова к нормальной форме;\n",
    "\n",
    "5) Преобразуйте все сообщения в вектора TF-IDF. Вам поможет следующий код:\n",
    "\n",
    "from sklearn.feature_extraction.text import TfidfVectorizer\n",
    "\n",
    "tfidf = TfidfVectorizer() \n",
    "\n",
    "tfidf_matrix = tfidf.fit_transform(df.Message)\n",
    "\n",
    "names = tfidf.get_feature_names_out()\n",
    "\n",
    "tfidf_matrix = pd.DataFrame(tfidf_matrix.toarray(), columns=names)\n",
    "\n",
    "\n",
    "Можете поэкспериментировать с параметрами TfidfVectorizer;\n",
    "\n",
    "6) Разделите данные на тестовые и тренировочные в соотношении 30/70, укажите random_state=42. Используйте train_test_split;\n",
    "\n",
    "7) Постройте модель логистической регрессии, укажите random_state=42, оцените ее точность на тестовых данных;\n",
    "\n",
    "8) Опишите результаты при помощи confusion_matrix;\n",
    "\n",
    "9) Постройте датафрейм, который будет содержать все исходные тексты сообщений, классифицированные неправильно (с указанием фактического и предсказанного)."
   ]
  },
  {
   "cell_type": "code",
   "execution_count": 51,
   "id": "820e10fa",
   "metadata": {},
   "outputs": [
    {
     "data": {
      "text/html": [
       "<div>\n",
       "<style scoped>\n",
       "    .dataframe tbody tr th:only-of-type {\n",
       "        vertical-align: middle;\n",
       "    }\n",
       "\n",
       "    .dataframe tbody tr th {\n",
       "        vertical-align: top;\n",
       "    }\n",
       "\n",
       "    .dataframe thead th {\n",
       "        text-align: right;\n",
       "    }\n",
       "</style>\n",
       "<table border=\"1\" class=\"dataframe\">\n",
       "  <thead>\n",
       "    <tr style=\"text-align: right;\">\n",
       "      <th></th>\n",
       "      <th>Category</th>\n",
       "      <th>Message</th>\n",
       "    </tr>\n",
       "  </thead>\n",
       "  <tbody>\n",
       "    <tr>\n",
       "      <th>0</th>\n",
       "      <td>ham</td>\n",
       "      <td>Go until jurong point, crazy.. Available only ...</td>\n",
       "    </tr>\n",
       "    <tr>\n",
       "      <th>1</th>\n",
       "      <td>ham</td>\n",
       "      <td>Ok lar... Joking wif u oni...</td>\n",
       "    </tr>\n",
       "    <tr>\n",
       "      <th>2</th>\n",
       "      <td>spam</td>\n",
       "      <td>Free entry in 2 a wkly comp to win FA Cup fina...</td>\n",
       "    </tr>\n",
       "    <tr>\n",
       "      <th>3</th>\n",
       "      <td>ham</td>\n",
       "      <td>U dun say so early hor... U c already then say...</td>\n",
       "    </tr>\n",
       "    <tr>\n",
       "      <th>4</th>\n",
       "      <td>ham</td>\n",
       "      <td>Nah I don't think he goes to usf, he lives aro...</td>\n",
       "    </tr>\n",
       "    <tr>\n",
       "      <th>...</th>\n",
       "      <td>...</td>\n",
       "      <td>...</td>\n",
       "    </tr>\n",
       "    <tr>\n",
       "      <th>5567</th>\n",
       "      <td>spam</td>\n",
       "      <td>This is the 2nd time we have tried 2 contact u...</td>\n",
       "    </tr>\n",
       "    <tr>\n",
       "      <th>5568</th>\n",
       "      <td>ham</td>\n",
       "      <td>Will ü b going to esplanade fr home?</td>\n",
       "    </tr>\n",
       "    <tr>\n",
       "      <th>5569</th>\n",
       "      <td>ham</td>\n",
       "      <td>Pity, * was in mood for that. So...any other s...</td>\n",
       "    </tr>\n",
       "    <tr>\n",
       "      <th>5570</th>\n",
       "      <td>ham</td>\n",
       "      <td>The guy did some bitching but I acted like i'd...</td>\n",
       "    </tr>\n",
       "    <tr>\n",
       "      <th>5571</th>\n",
       "      <td>ham</td>\n",
       "      <td>Rofl. Its true to its name</td>\n",
       "    </tr>\n",
       "  </tbody>\n",
       "</table>\n",
       "<p>5572 rows × 2 columns</p>\n",
       "</div>"
      ],
      "text/plain": [
       "     Category                                            Message\n",
       "0         ham  Go until jurong point, crazy.. Available only ...\n",
       "1         ham                      Ok lar... Joking wif u oni...\n",
       "2        spam  Free entry in 2 a wkly comp to win FA Cup fina...\n",
       "3         ham  U dun say so early hor... U c already then say...\n",
       "4         ham  Nah I don't think he goes to usf, he lives aro...\n",
       "...       ...                                                ...\n",
       "5567     spam  This is the 2nd time we have tried 2 contact u...\n",
       "5568      ham               Will ü b going to esplanade fr home?\n",
       "5569      ham  Pity, * was in mood for that. So...any other s...\n",
       "5570      ham  The guy did some bitching but I acted like i'd...\n",
       "5571      ham                         Rofl. Its true to its name\n",
       "\n",
       "[5572 rows x 2 columns]"
      ]
     },
     "execution_count": 51,
     "metadata": {},
     "output_type": "execute_result"
    }
   ],
   "source": [
    "import re\n",
    "log_df = pd.read_csv('https://raw.githubusercontent.com/obulygin/pyda_homeworks/master/stat_case_study/spam.csv')\n",
    "log_df"
   ]
  },
  {
   "cell_type": "code",
   "execution_count": 52,
   "id": "459f4f51",
   "metadata": {},
   "outputs": [],
   "source": [
    "# Привидите весь текст к нижнему регистру\n",
    "log_df['Message'] = log_df['Message'].apply(str.lower)"
   ]
  },
  {
   "cell_type": "code",
   "execution_count": 53,
   "id": "9fd01e93",
   "metadata": {},
   "outputs": [
    {
     "data": {
      "text/html": [
       "<div>\n",
       "<style scoped>\n",
       "    .dataframe tbody tr th:only-of-type {\n",
       "        vertical-align: middle;\n",
       "    }\n",
       "\n",
       "    .dataframe tbody tr th {\n",
       "        vertical-align: top;\n",
       "    }\n",
       "\n",
       "    .dataframe thead th {\n",
       "        text-align: right;\n",
       "    }\n",
       "</style>\n",
       "<table border=\"1\" class=\"dataframe\">\n",
       "  <thead>\n",
       "    <tr style=\"text-align: right;\">\n",
       "      <th></th>\n",
       "      <th>Category</th>\n",
       "      <th>Message</th>\n",
       "    </tr>\n",
       "  </thead>\n",
       "  <tbody>\n",
       "    <tr>\n",
       "      <th>0</th>\n",
       "      <td>ham</td>\n",
       "      <td>go until jurong point crazy available only in ...</td>\n",
       "    </tr>\n",
       "    <tr>\n",
       "      <th>1</th>\n",
       "      <td>ham</td>\n",
       "      <td>ok lar joking wif u oni</td>\n",
       "    </tr>\n",
       "    <tr>\n",
       "      <th>2</th>\n",
       "      <td>spam</td>\n",
       "      <td>free entry in 2 a wkly comp to win fa cup fina...</td>\n",
       "    </tr>\n",
       "    <tr>\n",
       "      <th>3</th>\n",
       "      <td>ham</td>\n",
       "      <td>u dun say so early hor u c already then say</td>\n",
       "    </tr>\n",
       "    <tr>\n",
       "      <th>4</th>\n",
       "      <td>ham</td>\n",
       "      <td>nah i don t think he goes to usf he lives arou...</td>\n",
       "    </tr>\n",
       "    <tr>\n",
       "      <th>...</th>\n",
       "      <td>...</td>\n",
       "      <td>...</td>\n",
       "    </tr>\n",
       "    <tr>\n",
       "      <th>5567</th>\n",
       "      <td>spam</td>\n",
       "      <td>this is the 2nd time we have tried 2 contact u...</td>\n",
       "    </tr>\n",
       "    <tr>\n",
       "      <th>5568</th>\n",
       "      <td>ham</td>\n",
       "      <td>will ü b going to esplanade fr home</td>\n",
       "    </tr>\n",
       "    <tr>\n",
       "      <th>5569</th>\n",
       "      <td>ham</td>\n",
       "      <td>pity was in mood for that so any other suggest...</td>\n",
       "    </tr>\n",
       "    <tr>\n",
       "      <th>5570</th>\n",
       "      <td>ham</td>\n",
       "      <td>the guy did some bitching but i acted like i d...</td>\n",
       "    </tr>\n",
       "    <tr>\n",
       "      <th>5571</th>\n",
       "      <td>ham</td>\n",
       "      <td>rofl its true to its name</td>\n",
       "    </tr>\n",
       "  </tbody>\n",
       "</table>\n",
       "<p>5572 rows × 2 columns</p>\n",
       "</div>"
      ],
      "text/plain": [
       "     Category                                            Message\n",
       "0         ham  go until jurong point crazy available only in ...\n",
       "1         ham                           ok lar joking wif u oni \n",
       "2        spam  free entry in 2 a wkly comp to win fa cup fina...\n",
       "3         ham       u dun say so early hor u c already then say \n",
       "4         ham  nah i don t think he goes to usf he lives arou...\n",
       "...       ...                                                ...\n",
       "5567     spam  this is the 2nd time we have tried 2 contact u...\n",
       "5568      ham               will ü b going to esplanade fr home \n",
       "5569      ham  pity was in mood for that so any other suggest...\n",
       "5570      ham  the guy did some bitching but i acted like i d...\n",
       "5571      ham                          rofl its true to its name\n",
       "\n",
       "[5572 rows x 2 columns]"
      ]
     },
     "execution_count": 53,
     "metadata": {},
     "output_type": "execute_result"
    }
   ],
   "source": [
    "# Удалите мусорные символы\n",
    "log_df['Message'] = [re.sub('[\\W_]+', ' ', text) for text in log_df['Message'].values]"
   ]
  },
  {
   "cell_type": "code",
   "execution_count": 20,
   "id": "933e831c",
   "metadata": {},
   "outputs": [
    {
     "name": "stderr",
     "output_type": "stream",
     "text": [
      "[nltk_data] Downloading package stopwords to\n",
      "[nltk_data]     C:\\Users\\voron\\AppData\\Roaming\\nltk_data...\n",
      "[nltk_data]   Package stopwords is already up-to-date!\n"
     ]
    }
   ],
   "source": [
    "# Удалите стоп-слова\n",
    "import nltk\n",
    "from nltk.corpus import stopwords\n",
    "nltk.download('stopwords')\n",
    "stopwords_set = set(stopwords.words('english'))\n",
    "\n",
    "log_df['Message'] = [text.split() for text in log_df['Message'].values]\n",
    "log_df['Message'] = [[word for word in text if word not in stopwords_set] for text in log_df['Message'].values]"
   ]
  },
  {
   "cell_type": "code",
   "execution_count": 21,
   "id": "118cb42f",
   "metadata": {
    "scrolled": false
   },
   "outputs": [
    {
     "name": "stderr",
     "output_type": "stream",
     "text": [
      "[nltk_data] Downloading package omw-1.4 to\n",
      "[nltk_data]     C:\\Users\\voron\\AppData\\Roaming\\nltk_data...\n",
      "[nltk_data]   Package omw-1.4 is already up-to-date!\n",
      "[nltk_data] Downloading package wordnet to\n",
      "[nltk_data]     C:\\Users\\voron\\AppData\\Roaming\\nltk_data...\n",
      "[nltk_data]   Package wordnet is already up-to-date!\n"
     ]
    }
   ],
   "source": [
    "# Привидите все слова к нормальной форме\n",
    "from nltk.stem import WordNetLemmatizer\n",
    "nltk.download('omw-1.4')\n",
    "nltk.download('wordnet')\n",
    "\n",
    "wordnet_lemmatizer = WordNetLemmatizer()\n",
    "log_df['Message'] = [[wordnet_lemmatizer.lemmatize(word) for word in text] for text in log_df['Message'].values]\n",
    "log_df['Message'] = [' '.join(list_of_words) for list_of_words in log_df['Message'].values]"
   ]
  },
  {
   "cell_type": "code",
   "execution_count": 55,
   "id": "d4a2e497",
   "metadata": {},
   "outputs": [],
   "source": [
    "# Преобразуйте все сообщения в вектора TF-IDF.\n",
    "from sklearn.feature_extraction.text import TfidfVectorizer\n",
    "\n",
    "tfidf = TfidfVectorizer()\n",
    "tfidf_matrix = tfidf.fit_transform(log_df['Message'])\n",
    "names = tfidf.get_feature_names()\n",
    "tfidf_matrix = pd.DataFrame(tfidf_matrix.toarray(), columns=names)"
   ]
  },
  {
   "cell_type": "code",
   "execution_count": 24,
   "id": "78979784",
   "metadata": {},
   "outputs": [],
   "source": [
    "# Разделите данные на тестовые и тренировочные в соотношении 30/70, укажите random_state=42. Используйте train_test_split;\n",
    "from sklearn.model_selection import train_test_split\n",
    "X_train, X_test, y_train, y_test = train_test_split(tfidf_matrix, log_df['Category'], test_size = 0.3, random_state=42)"
   ]
  },
  {
   "cell_type": "code",
   "execution_count": 25,
   "id": "aa2d9037",
   "metadata": {},
   "outputs": [
    {
     "data": {
      "text/plain": [
       "LogisticRegression(random_state=42)"
      ]
     },
     "execution_count": 25,
     "metadata": {},
     "output_type": "execute_result"
    }
   ],
   "source": [
    "# Постройте модель логистической регрессии, укажите random_state=42, оцените ее точность на тестовых данных;\n",
    "from sklearn.linear_model import LogisticRegression\n",
    "lr = LogisticRegression(random_state=42)\n",
    "lr.fit(X_train, y_train)"
   ]
  },
  {
   "cell_type": "code",
   "execution_count": 26,
   "id": "1b390af7",
   "metadata": {},
   "outputs": [
    {
     "data": {
      "text/plain": [
       "array([[1445,    3],\n",
       "       [  66,  158]], dtype=int64)"
      ]
     },
     "execution_count": 26,
     "metadata": {},
     "output_type": "execute_result"
    }
   ],
   "source": [
    "# Опишите результаты при помощи confusion_matrix;\n",
    "from sklearn.metrics import confusion_matrix\n",
    "y_true = y_test\n",
    "y_pred = lr.predict(X_test)\n",
    "cm = confusion_matrix(y_true, y_pred, labels=['ham', 'spam'])\n",
    "cm"
   ]
  },
  {
   "cell_type": "code",
   "execution_count": 27,
   "id": "670901a4",
   "metadata": {},
   "outputs": [
    {
     "name": "stdout",
     "output_type": "stream",
     "text": [
      "Точность нашей модели по прогнозированию спам/не спам: 0.997928\n",
      "У нас получился высокий показатель, мы прделали хорошую работу\n",
      "\n",
      "Истино-положительное решение: 1445\n",
      "Истино-отрицательное решение: 158\n",
      "Ошибка 1-го типа: 3\n",
      "Ошибка 2-го типа: 66\n"
     ]
    }
   ],
   "source": [
    "# Опишем наши результаты.\n",
    "# Точность\n",
    "precision = (confusion_matrix(y_true, y_pred, labels=['ham', 'spam'])[0][0]) / ((confusion_matrix(y_true, y_pred, labels=['ham', 'spam'])[0][0]) + (confusion_matrix(y_true, y_pred, labels=['ham', 'spam'])[0][1]))\n",
    "print(f'Точность нашей модели по прогнозированию спам/не спам: {precision:.6f}\\\n",
    "\\nУ нас получился высокий показатель, мы прделали хорошую работу')\n",
    "\n",
    "# Параметры матрицы\n",
    "true_positive = confusion_matrix(y_true, y_pred, labels=['ham', 'spam'])[0][0]\n",
    "false_positive = confusion_matrix(y_true, y_pred, labels=['ham', 'spam'])[0][1]\n",
    "false_negative = confusion_matrix(y_true, y_pred, labels=['ham', 'spam'])[1][0]\n",
    "true_negative = confusion_matrix(y_true, y_pred, labels=['ham', 'spam'])[1][1]\n",
    "\n",
    "print()\n",
    "print(f'Истино-положительное решение: {true_positive}\\nИстино-отрицательное решение: {true_negative}\\n\\\n",
    "Ошибка 1-го типа: {false_positive}\\nОшибка 2-го типа: {false_negative}')"
   ]
  },
  {
   "cell_type": "code",
   "execution_count": 45,
   "id": "fd6c04b9",
   "metadata": {},
   "outputs": [
    {
     "data": {
      "image/png": "[encoded data removed]",
      "text/plain": [
       "<Figure size 936x504 with 2 Axes>"
      ]
     },
     "metadata": {
      "needs_background": "light"
     },
     "output_type": "display_data"
    }
   ],
   "source": [
    "# Визуализация\n",
    "from sklearn.metrics import confusion_matrix\n",
    "from sklearn.metrics import ConfusionMatrixDisplay\n",
    "cm_display = ConfusionMatrixDisplay(cm).plot()\n",
    "plt.title('Результаты')\n",
    "plt.xlabel('Предсказания', fontdict={'size':13})\n",
    "plt.ylabel('Реальные данные', fontdict={'size':13})\n",
    "plt.show()"
   ]
  },
  {
   "cell_type": "code",
   "execution_count": 29,
   "id": "4ab980f3",
   "metadata": {},
   "outputs": [],
   "source": [
    "# Постройте датафрейм, который будет содержать все исходные тексты сообщений, классифицированные неправильно \n",
    "# (с указанием фактического и предсказанного)."
   ]
  },
  {
   "cell_type": "code",
   "execution_count": 30,
   "id": "da323cdb",
   "metadata": {},
   "outputs": [],
   "source": [
    "spam_or_not = pd.read_csv('https://raw.githubusercontent.com/obulygin/pyda_homeworks/master/stat_case_study/spam.csv')\n",
    "spam_or_not.reset_index(inplace=True)\n",
    "spam_or_not.columns = ['id', 'Category', 'Message']"
   ]
  },
  {
   "cell_type": "code",
   "execution_count": 31,
   "id": "b8608a03",
   "metadata": {},
   "outputs": [],
   "source": [
    "true = pd.DataFrame(y_true)\n",
    "true.reset_index(inplace=True)\n",
    "true.columns = ['id', 'Category']\n",
    "\n",
    "pred = pd.DataFrame(y_pred)"
   ]
  },
  {
   "cell_type": "code",
   "execution_count": 32,
   "id": "f89c1d00",
   "metadata": {},
   "outputs": [
    {
     "name": "stderr",
     "output_type": "stream",
     "text": [
      "D:\\DataSci\\anaconda3\\lib\\site-packages\\pandas\\core\\indexing.py:1732: SettingWithCopyWarning: \n",
      "A value is trying to be set on a copy of a slice from a DataFrame\n",
      "\n",
      "See the caveats in the documentation: https://pandas.pydata.org/pandas-docs/stable/user_guide/indexing.html#returning-a-view-versus-a-copy\n",
      "  self._setitem_single_block(indexer, value, name)\n",
      "D:\\DataSci\\anaconda3\\lib\\site-packages\\pandas\\core\\frame.py:4906: SettingWithCopyWarning: \n",
      "A value is trying to be set on a copy of a slice from a DataFrame\n",
      "\n",
      "See the caveats in the documentation: https://pandas.pydata.org/pandas-docs/stable/user_guide/indexing.html#returning-a-view-versus-a-copy\n",
      "  return super().drop(\n"
     ]
    }
   ],
   "source": [
    "joined = true.join(pred, how='outer') \n",
    "joined.columns = ['id', 'Category', 'Prediction']\n",
    "joined['Predict'] = 0\n",
    "joined['Predict'].loc[(joined['Category'] == joined['Prediction'])] = 1\n",
    "falses = joined.loc[joined['Predict'] == 0]\n",
    "falses.drop(columns=['Category', 'Prediction'], inplace=True)"
   ]
  },
  {
   "cell_type": "code",
   "execution_count": 33,
   "id": "094e5549",
   "metadata": {},
   "outputs": [],
   "source": [
    "total = spam_or_not.join(falses, on='id', lsuffix='_true', rsuffix='_false', how='left')\n",
    "total.dropna(axis=0, inplace=True)\n",
    "total.drop(columns=['id_true', 'id_false'], inplace=True)\n",
    "\n",
    "total['Predict'].loc[(total['Category'] == 'ham')] = 'spam' \n",
    "total['Predict'].loc[(total['Category'] == 'spam')] = 'ham' "
   ]
  },
  {
   "cell_type": "code",
   "execution_count": 56,
   "id": "e57686ae",
   "metadata": {},
   "outputs": [
    {
     "data": {
      "text/html": [
       "<div>\n",
       "<style scoped>\n",
       "    .dataframe tbody tr th:only-of-type {\n",
       "        vertical-align: middle;\n",
       "    }\n",
       "\n",
       "    .dataframe tbody tr th {\n",
       "        vertical-align: top;\n",
       "    }\n",
       "\n",
       "    .dataframe thead th {\n",
       "        text-align: right;\n",
       "    }\n",
       "</style>\n",
       "<table border=\"1\" class=\"dataframe\">\n",
       "  <thead>\n",
       "    <tr style=\"text-align: right;\">\n",
       "      <th></th>\n",
       "      <th>Category</th>\n",
       "      <th>Message</th>\n",
       "      <th>Predict</th>\n",
       "    </tr>\n",
       "  </thead>\n",
       "  <tbody>\n",
       "    <tr>\n",
       "      <th>17</th>\n",
       "      <td>ham</td>\n",
       "      <td>Eh u remember how 2 spell his name... Yes i di...</td>\n",
       "      <td>spam</td>\n",
       "    </tr>\n",
       "    <tr>\n",
       "      <th>40</th>\n",
       "      <td>ham</td>\n",
       "      <td>Pls go ahead with watts. I just wanted to be s...</td>\n",
       "      <td>spam</td>\n",
       "    </tr>\n",
       "    <tr>\n",
       "      <th>47</th>\n",
       "      <td>ham</td>\n",
       "      <td>Fair enough, anything going on?</td>\n",
       "      <td>spam</td>\n",
       "    </tr>\n",
       "    <tr>\n",
       "      <th>74</th>\n",
       "      <td>ham</td>\n",
       "      <td>U can call me now...</td>\n",
       "      <td>spam</td>\n",
       "    </tr>\n",
       "    <tr>\n",
       "      <th>84</th>\n",
       "      <td>ham</td>\n",
       "      <td>Yup next stop.</td>\n",
       "      <td>spam</td>\n",
       "    </tr>\n",
       "    <tr>\n",
       "      <th>...</th>\n",
       "      <td>...</td>\n",
       "      <td>...</td>\n",
       "      <td>...</td>\n",
       "    </tr>\n",
       "    <tr>\n",
       "      <th>1525</th>\n",
       "      <td>ham</td>\n",
       "      <td>Hi:)cts employee how are you?</td>\n",
       "      <td>spam</td>\n",
       "    </tr>\n",
       "    <tr>\n",
       "      <th>1567</th>\n",
       "      <td>ham</td>\n",
       "      <td>I am late. I will be there at</td>\n",
       "      <td>spam</td>\n",
       "    </tr>\n",
       "    <tr>\n",
       "      <th>1569</th>\n",
       "      <td>ham</td>\n",
       "      <td>Today is ACCEPT DAY..U Accept me as? Brother S...</td>\n",
       "      <td>spam</td>\n",
       "    </tr>\n",
       "    <tr>\n",
       "      <th>1576</th>\n",
       "      <td>ham</td>\n",
       "      <td>Sounds gd... Haha... Can... Wah, u yan jiu so ...</td>\n",
       "      <td>spam</td>\n",
       "    </tr>\n",
       "    <tr>\n",
       "      <th>1586</th>\n",
       "      <td>ham</td>\n",
       "      <td>I was wondering if it would be okay for you to...</td>\n",
       "      <td>spam</td>\n",
       "    </tr>\n",
       "  </tbody>\n",
       "</table>\n",
       "<p>69 rows × 3 columns</p>\n",
       "</div>"
      ],
      "text/plain": [
       "     Category                                            Message Predict\n",
       "17        ham  Eh u remember how 2 spell his name... Yes i di...    spam\n",
       "40        ham  Pls go ahead with watts. I just wanted to be s...    spam\n",
       "47        ham                    Fair enough, anything going on?    spam\n",
       "74        ham                               U can call me now...    spam\n",
       "84        ham                                     Yup next stop.    spam\n",
       "...       ...                                                ...     ...\n",
       "1525      ham                      Hi:)cts employee how are you?    spam\n",
       "1567      ham                      I am late. I will be there at    spam\n",
       "1569      ham  Today is ACCEPT DAY..U Accept me as? Brother S...    spam\n",
       "1576      ham  Sounds gd... Haha... Can... Wah, u yan jiu so ...    spam\n",
       "1586      ham  I was wondering if it would be okay for you to...    spam\n",
       "\n",
       "[69 rows x 3 columns]"
      ]
     },
     "execution_count": 56,
     "metadata": {},
     "output_type": "execute_result"
    }
   ],
   "source": [
    "total"
   ]
  },
  {
   "cell_type": "code",
   "execution_count": null,
   "id": "a2ddc140",
   "metadata": {},
   "outputs": [],
   "source": []
  }
 ],
 "metadata": {
  "kernelspec": {
   "display_name": "Python 3 (ipykernel)",
   "language": "python",
   "name": "python3"
  },
  "language_info": {
   "codemirror_mode": {
    "name": "ipython",
    "version": 3
   },
   "file_extension": ".py",
   "mimetype": "text/x-python",
   "name": "python",
   "nbconvert_exporter": "python",
   "pygments_lexer": "ipython3",
   "version": "3.9.7"
  }
 },
 "nbformat": 4,
 "nbformat_minor": 5
}
