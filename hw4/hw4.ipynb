{
 "cells": [
  {
   "cell_type": "code",
   "execution_count": 1,
   "id": "9b1611b2",
   "metadata": {},
   "outputs": [],
   "source": [
    "import numpy as np\n",
    "import pandas as pd\n",
    "from sklearn.linear_model import LinearRegression\n",
    "from sklearn.model_selection import train_test_split\n",
    "import matplotlib.pyplot as plt\n",
    "import seaborn as sns"
   ]
  },
  {
   "cell_type": "code",
   "execution_count": 2,
   "id": "66f02552",
   "metadata": {},
   "outputs": [],
   "source": [
    "df = pd.read_csv('D:/DataSci/Python/Py_Stats/hw4/water.csv', usecols=[1,2,3,4])"
   ]
  },
  {
   "cell_type": "code",
   "execution_count": 3,
   "id": "5c610531",
   "metadata": {},
   "outputs": [
    {
     "data": {
      "text/html": [
       "<div>\n",
       "<style scoped>\n",
       "    .dataframe tbody tr th:only-of-type {\n",
       "        vertical-align: middle;\n",
       "    }\n",
       "\n",
       "    .dataframe tbody tr th {\n",
       "        vertical-align: top;\n",
       "    }\n",
       "\n",
       "    .dataframe thead th {\n",
       "        text-align: right;\n",
       "    }\n",
       "</style>\n",
       "<table border=\"1\" class=\"dataframe\">\n",
       "  <thead>\n",
       "    <tr style=\"text-align: right;\">\n",
       "      <th></th>\n",
       "      <th>location</th>\n",
       "      <th>town</th>\n",
       "      <th>mortality</th>\n",
       "      <th>hardness</th>\n",
       "    </tr>\n",
       "  </thead>\n",
       "  <tbody>\n",
       "    <tr>\n",
       "      <th>0</th>\n",
       "      <td>South</td>\n",
       "      <td>Bath</td>\n",
       "      <td>1247</td>\n",
       "      <td>105</td>\n",
       "    </tr>\n",
       "    <tr>\n",
       "      <th>1</th>\n",
       "      <td>North</td>\n",
       "      <td>Birkenhead</td>\n",
       "      <td>1668</td>\n",
       "      <td>17</td>\n",
       "    </tr>\n",
       "    <tr>\n",
       "      <th>2</th>\n",
       "      <td>South</td>\n",
       "      <td>Birmingham</td>\n",
       "      <td>1466</td>\n",
       "      <td>5</td>\n",
       "    </tr>\n",
       "    <tr>\n",
       "      <th>3</th>\n",
       "      <td>North</td>\n",
       "      <td>Blackburn</td>\n",
       "      <td>1800</td>\n",
       "      <td>14</td>\n",
       "    </tr>\n",
       "    <tr>\n",
       "      <th>4</th>\n",
       "      <td>North</td>\n",
       "      <td>Blackpool</td>\n",
       "      <td>1609</td>\n",
       "      <td>18</td>\n",
       "    </tr>\n",
       "    <tr>\n",
       "      <th>...</th>\n",
       "      <td>...</td>\n",
       "      <td>...</td>\n",
       "      <td>...</td>\n",
       "      <td>...</td>\n",
       "    </tr>\n",
       "    <tr>\n",
       "      <th>56</th>\n",
       "      <td>South</td>\n",
       "      <td>Walsall</td>\n",
       "      <td>1527</td>\n",
       "      <td>60</td>\n",
       "    </tr>\n",
       "    <tr>\n",
       "      <th>57</th>\n",
       "      <td>South</td>\n",
       "      <td>West Bromwich</td>\n",
       "      <td>1627</td>\n",
       "      <td>53</td>\n",
       "    </tr>\n",
       "    <tr>\n",
       "      <th>58</th>\n",
       "      <td>South</td>\n",
       "      <td>West Ham</td>\n",
       "      <td>1486</td>\n",
       "      <td>122</td>\n",
       "    </tr>\n",
       "    <tr>\n",
       "      <th>59</th>\n",
       "      <td>South</td>\n",
       "      <td>Wolverhampton</td>\n",
       "      <td>1485</td>\n",
       "      <td>81</td>\n",
       "    </tr>\n",
       "    <tr>\n",
       "      <th>60</th>\n",
       "      <td>North</td>\n",
       "      <td>York</td>\n",
       "      <td>1378</td>\n",
       "      <td>71</td>\n",
       "    </tr>\n",
       "  </tbody>\n",
       "</table>\n",
       "<p>61 rows × 4 columns</p>\n",
       "</div>"
      ],
      "text/plain": [
       "   location           town  mortality  hardness\n",
       "0     South           Bath       1247       105\n",
       "1     North     Birkenhead       1668        17\n",
       "2     South     Birmingham       1466         5\n",
       "3     North      Blackburn       1800        14\n",
       "4     North      Blackpool       1609        18\n",
       "..      ...            ...        ...       ...\n",
       "56    South        Walsall       1527        60\n",
       "57    South  West Bromwich       1627        53\n",
       "58    South       West Ham       1486       122\n",
       "59    South  Wolverhampton       1485        81\n",
       "60    North           York       1378        71\n",
       "\n",
       "[61 rows x 4 columns]"
      ]
     },
     "execution_count": 3,
     "metadata": {},
     "output_type": "execute_result"
    }
   ],
   "source": [
    "df"
   ]
  },
  {
   "cell_type": "markdown",
   "id": "142433f0",
   "metadata": {},
   "source": [
    "### Задание 1.\n",
    "Ответить на вопрос: есть ли связь между жёсткостью воды и средней годовой смертностью?"
   ]
  },
  {
   "cell_type": "code",
   "execution_count": 4,
   "id": "95133c64",
   "metadata": {},
   "outputs": [
    {
     "data": {
      "image/png": "[encoded data removed]",
      "text/plain": [
       "<Figure size 432x288 with 1 Axes>"
      ]
     },
     "metadata": {
      "needs_background": "light"
     },
     "output_type": "display_data"
    }
   ],
   "source": [
    "#Построить точечный график\n",
    "'''Мы видим линейную взаимосвязь, хоть она и очень крепкая такак как разброс вдоль линии существенный, \n",
    "также видим, что при низкой жесткости наибольшее количетсво смертей - максимальные значения именно в это области\n",
    "'''\n",
    "sns.regplot(data=df, x='hardness', y='mortality', color='orangered')\n",
    "plt.title('Зависимость между жесткостью воды и смертностью', fontdict={'size':12})\n",
    "plt.xlabel('Жесткость воды', fontdict={'size':10})\n",
    "plt.ylabel('Смертность', fontdict={'size':10})\n",
    "plt.show()"
   ]
  },
  {
   "cell_type": "code",
   "execution_count": 5,
   "id": "b53b2bd9",
   "metadata": {},
   "outputs": [
    {
     "name": "stdout",
     "output_type": "stream",
     "text": [
      "Коэффициент Пирсона: -0.6548\n",
      "Коэффициент Спирмена: -0.6317\n"
     ]
    }
   ],
   "source": [
    "#Рассчитать коэффициенты корреляции Пирсона и Спирмена\n",
    "'''Так как оба коэффициента лежат в пределах от -0,5 до -0,74 и ближе ко второй границе, \n",
    "то корреляция является высокой отрицательной, также потому, что знак отрицательный.\n",
    "'''\n",
    "print(f\"Коэффициент Пирсона: {round(df[['hardness', 'mortality']].corr()['mortality'][0], 4)}\")\n",
    "print(f\"Коэффициент Спирмена: {round(df[['hardness', 'mortality']].corr(method='spearman')['mortality'][0], 4)}\")"
   ]
  },
  {
   "cell_type": "code",
   "execution_count": 6,
   "id": "8e88cb6a",
   "metadata": {},
   "outputs": [
    {
     "data": {
      "text/plain": [
       "array([1650.00610568, 1638.65686372, 1556.37485957, 1505.30327078,\n",
       "       1369.11236735, 1610.28375884, 1556.37485957, 1624.47031128,\n",
       "       1437.20781906, 1289.66767368, 1644.3314847 , 1363.43774637,\n",
       "       1621.63300079, 1474.09285541, 1627.30762177, 1627.30762177,\n",
       "       1428.6958876 , 1380.4616093 , 1400.32278272])"
      ]
     },
     "execution_count": 6,
     "metadata": {},
     "output_type": "execute_result"
    }
   ],
   "source": [
    "#Построить модель линейной регрессии\n",
    "X = df[['hardness']]\n",
    "y = df['mortality']\n",
    "\n",
    "X_train, X_test, y_train, y_test = train_test_split(X, y, test_size=0.30, random_state=38)\n",
    "\n",
    "model = LinearRegression()\n",
    "model.fit(X_train, y_train)\n",
    "\n",
    "y_pred = model.predict(X_test)\n",
    "y_pred"
   ]
  },
  {
   "cell_type": "code",
   "execution_count": 7,
   "id": "23f1ba47",
   "metadata": {},
   "outputs": [
    {
     "data": {
      "text/plain": [
       "0.6642139863355059"
      ]
     },
     "execution_count": 7,
     "metadata": {},
     "output_type": "execute_result"
    }
   ],
   "source": [
    "#Рассчитать коэффициент детерминации\n",
    "'''Коэффициент не очень высокий, но приемлемый, опираться исключительно на эти данные и делать по ним прогноз не стоит, \n",
    "но использовать можно.\n",
    "'''\n",
    "model.score(X_test, y_test)"
   ]
  },
  {
   "cell_type": "code",
   "execution_count": 8,
   "id": "0c9051b4",
   "metadata": {},
   "outputs": [
    {
     "name": "stdout",
     "output_type": "stream",
     "text": [
      "(42, 1)\n",
      "(19, 1)\n",
      "(42,)\n"
     ]
    }
   ],
   "source": [
    "print(X_train.shape)\n",
    "print(X_test.shape)\n",
    "print(y_train.shape)"
   ]
  },
  {
   "cell_type": "code",
   "execution_count": 9,
   "id": "492449ab",
   "metadata": {},
   "outputs": [
    {
     "data": {
      "image/png": "[encoded data removed]",
      "text/plain": [
       "<Figure size 432x288 with 1 Axes>"
      ]
     },
     "metadata": {
      "needs_background": "light"
     },
     "output_type": "display_data"
    }
   ],
   "source": [
    "#Вывести график остатков\n",
    "'''\n",
    "Остатки распределны рандомно и равномерно, хоть и в левой части видим небольшое скопление, модель работает нормально\n",
    "'''\n",
    "sns.residplot(x=X_test, y=y_pred-y_test, color='indigo')\n",
    "plt.xlabel('Прогноз', fontdict={'size':12})\n",
    "plt.ylabel('Остатки', fontdict={'size':12})\n",
    "plt.show()"
   ]
  },
  {
   "cell_type": "code",
   "execution_count": 75,
   "id": "688368c1",
   "metadata": {},
   "outputs": [
    {
     "data": {
      "image/png": "[encoded data removed]",
      "text/plain": [
       "<Figure size 432x288 with 1 Axes>"
      ]
     },
     "metadata": {
      "needs_background": "light"
     },
     "output_type": "display_data"
    }
   ],
   "source": [
    "'''\n",
    "По гистограмме не сказать чтобы было все \"гладко\". \n",
    "Как интерпретировать не знаю, но видно, что значений всего 2 и хвосты разные\n",
    "'''\n",
    "plt.hist(y_pred-y_test, bins=20)\n",
    "plt.xlabel('Прогноз', fontdict={'size':12})\n",
    "plt.ylabel('Остатки', fontdict={'size':12})\n",
    "plt.show()"
   ]
  },
  {
   "cell_type": "markdown",
   "id": "9e11c6e6",
   "metadata": {},
   "source": [
    "### Задание 2.\n",
    "Ответить на вопрос: сохраняется ли аналогичная зависимость для северных и южных городов по отдельности?\n",
    "\n",
    "Разделить данные на 2 группы"
   ]
  },
  {
   "cell_type": "code",
   "execution_count": 26,
   "id": "291b8610",
   "metadata": {},
   "outputs": [],
   "source": [
    "df_north = df[df['location'] == 'North']  \n",
    "df_south = df[df['location'] == 'South']  "
   ]
  },
  {
   "cell_type": "code",
   "execution_count": 27,
   "id": "8c383ce4",
   "metadata": {},
   "outputs": [
    {
     "data": {
      "text/html": [
       "<div>\n",
       "<style scoped>\n",
       "    .dataframe tbody tr th:only-of-type {\n",
       "        vertical-align: middle;\n",
       "    }\n",
       "\n",
       "    .dataframe tbody tr th {\n",
       "        vertical-align: top;\n",
       "    }\n",
       "\n",
       "    .dataframe thead th {\n",
       "        text-align: right;\n",
       "    }\n",
       "</style>\n",
       "<table border=\"1\" class=\"dataframe\">\n",
       "  <thead>\n",
       "    <tr style=\"text-align: right;\">\n",
       "      <th></th>\n",
       "      <th>location</th>\n",
       "      <th>town</th>\n",
       "      <th>mortality</th>\n",
       "      <th>hardness</th>\n",
       "    </tr>\n",
       "  </thead>\n",
       "  <tbody>\n",
       "    <tr>\n",
       "      <th>1</th>\n",
       "      <td>North</td>\n",
       "      <td>Birkenhead</td>\n",
       "      <td>1668</td>\n",
       "      <td>17</td>\n",
       "    </tr>\n",
       "    <tr>\n",
       "      <th>3</th>\n",
       "      <td>North</td>\n",
       "      <td>Blackburn</td>\n",
       "      <td>1800</td>\n",
       "      <td>14</td>\n",
       "    </tr>\n",
       "    <tr>\n",
       "      <th>4</th>\n",
       "      <td>North</td>\n",
       "      <td>Blackpool</td>\n",
       "      <td>1609</td>\n",
       "      <td>18</td>\n",
       "    </tr>\n",
       "    <tr>\n",
       "      <th>5</th>\n",
       "      <td>North</td>\n",
       "      <td>Bolton</td>\n",
       "      <td>1558</td>\n",
       "      <td>10</td>\n",
       "    </tr>\n",
       "    <tr>\n",
       "      <th>6</th>\n",
       "      <td>North</td>\n",
       "      <td>Bootle</td>\n",
       "      <td>1807</td>\n",
       "      <td>15</td>\n",
       "    </tr>\n",
       "  </tbody>\n",
       "</table>\n",
       "</div>"
      ],
      "text/plain": [
       "  location        town  mortality  hardness\n",
       "1    North  Birkenhead       1668        17\n",
       "3    North   Blackburn       1800        14\n",
       "4    North   Blackpool       1609        18\n",
       "5    North      Bolton       1558        10\n",
       "6    North      Bootle       1807        15"
      ]
     },
     "execution_count": 27,
     "metadata": {},
     "output_type": "execute_result"
    }
   ],
   "source": [
    "df_north.head(5)"
   ]
  },
  {
   "cell_type": "code",
   "execution_count": 28,
   "id": "4b9d3cbc",
   "metadata": {},
   "outputs": [
    {
     "data": {
      "text/html": [
       "<div>\n",
       "<style scoped>\n",
       "    .dataframe tbody tr th:only-of-type {\n",
       "        vertical-align: middle;\n",
       "    }\n",
       "\n",
       "    .dataframe tbody tr th {\n",
       "        vertical-align: top;\n",
       "    }\n",
       "\n",
       "    .dataframe thead th {\n",
       "        text-align: right;\n",
       "    }\n",
       "</style>\n",
       "<table border=\"1\" class=\"dataframe\">\n",
       "  <thead>\n",
       "    <tr style=\"text-align: right;\">\n",
       "      <th></th>\n",
       "      <th>location</th>\n",
       "      <th>town</th>\n",
       "      <th>mortality</th>\n",
       "      <th>hardness</th>\n",
       "    </tr>\n",
       "  </thead>\n",
       "  <tbody>\n",
       "    <tr>\n",
       "      <th>0</th>\n",
       "      <td>South</td>\n",
       "      <td>Bath</td>\n",
       "      <td>1247</td>\n",
       "      <td>105</td>\n",
       "    </tr>\n",
       "    <tr>\n",
       "      <th>2</th>\n",
       "      <td>South</td>\n",
       "      <td>Birmingham</td>\n",
       "      <td>1466</td>\n",
       "      <td>5</td>\n",
       "    </tr>\n",
       "    <tr>\n",
       "      <th>7</th>\n",
       "      <td>South</td>\n",
       "      <td>Bournemouth</td>\n",
       "      <td>1299</td>\n",
       "      <td>78</td>\n",
       "    </tr>\n",
       "    <tr>\n",
       "      <th>9</th>\n",
       "      <td>South</td>\n",
       "      <td>Brighton</td>\n",
       "      <td>1359</td>\n",
       "      <td>84</td>\n",
       "    </tr>\n",
       "    <tr>\n",
       "      <th>10</th>\n",
       "      <td>South</td>\n",
       "      <td>Bristol</td>\n",
       "      <td>1392</td>\n",
       "      <td>73</td>\n",
       "    </tr>\n",
       "  </tbody>\n",
       "</table>\n",
       "</div>"
      ],
      "text/plain": [
       "   location         town  mortality  hardness\n",
       "0     South         Bath       1247       105\n",
       "2     South   Birmingham       1466         5\n",
       "7     South  Bournemouth       1299        78\n",
       "9     South     Brighton       1359        84\n",
       "10    South      Bristol       1392        73"
      ]
     },
     "execution_count": 28,
     "metadata": {},
     "output_type": "execute_result"
    }
   ],
   "source": [
    "df_south.head()"
   ]
  },
  {
   "cell_type": "markdown",
   "id": "84d8ad3f",
   "metadata": {},
   "source": [
    "Повторить аналогичные шаги из пункта 1 для каждой группы по отдельности"
   ]
  },
  {
   "cell_type": "markdown",
   "id": "b9f60ec3",
   "metadata": {},
   "source": [
    "### СЕВЕР"
   ]
  },
  {
   "cell_type": "code",
   "execution_count": 29,
   "id": "dc478993",
   "metadata": {},
   "outputs": [
    {
     "data": {
      "image/png": "[encoded data removed]",
      "text/plain": [
       "<Figure size 432x288 with 1 Axes>"
      ]
     },
     "metadata": {
      "needs_background": "light"
     },
     "output_type": "display_data"
    }
   ],
   "source": [
    "#Построить точечный график\n",
    "'''Мы видим обратная линейная взаимосвязь, довольно слабую, разброс большой, \n",
    "также видим, что при низкой жесткости наибольшее количетсво смертей - максимальные значения именно в этой области\n",
    "'''\n",
    "sns.regplot(data=df_north, x='hardness', y='mortality', color='orangered')\n",
    "plt.title('Зависимость между жесткостью воды и смертностью', fontdict={'size':12})\n",
    "plt.xlabel('Жесткость воды', fontdict={'size':10})\n",
    "plt.ylabel('Смертность', fontdict={'size':10})\n",
    "plt.show()"
   ]
  },
  {
   "cell_type": "code",
   "execution_count": 42,
   "id": "741d34f1",
   "metadata": {},
   "outputs": [
    {
     "name": "stdout",
     "output_type": "stream",
     "text": [
      "Коэффийиент корреляции Пирсона: -0.3686\n",
      "Коэффийиент корреляции Спирмена: -0.4042\n"
     ]
    }
   ],
   "source": [
    "#Рассчитать коэффициенты корреляции Пирсона и Спирмена\n",
    "'''Так как оба коэффициента лежат в пределах от -0,25 до -0,49, то корреляция средняя отрицательная.\n",
    "'''\n",
    "print(f\"Коэффийиент корреляции Пирсона: {round(df_north[['hardness', 'mortality']].corr()['mortality'][0], 4)}\")\n",
    "print(f\"Коэффийиент корреляции Спирмена: {round(df_north[['hardness', 'mortality']].corr(method='spearman')['mortality'][0], 4)}\")"
   ]
  },
  {
   "cell_type": "code",
   "execution_count": 60,
   "id": "73fdca3b",
   "metadata": {},
   "outputs": [
    {
     "data": {
      "text/plain": [
       "array([1625.35029935, 1668.08820824, 1553.37066333, 1614.10348122,\n",
       "       1681.58439   , 1679.33502637, 1677.08566274, 1553.37066333,\n",
       "       1681.58439   , 1681.58439   , 1584.86175409])"
      ]
     },
     "execution_count": 60,
     "metadata": {},
     "output_type": "execute_result"
    }
   ],
   "source": [
    "#Построить модель линейной регрессии\n",
    "X = df_north[['hardness']]\n",
    "y = df_north['mortality']\n",
    "\n",
    "X_train, X_test, y_train, y_test = train_test_split(X, y, test_size=0.30, random_state=13)\n",
    "\n",
    "model = LinearRegression()\n",
    "model.fit(X_train, y_train)\n",
    "\n",
    "y_pred = model.predict(X_test)\n",
    "y_pred"
   ]
  },
  {
   "cell_type": "code",
   "execution_count": 61,
   "id": "ccd77b15",
   "metadata": {},
   "outputs": [
    {
     "data": {
      "text/plain": [
       "-0.1250982699915808"
      ]
     },
     "execution_count": 61,
     "metadata": {},
     "output_type": "execute_result"
    }
   ],
   "source": [
    "#Рассчитать коэффициент детерминации\n",
    "'''Коэффициент низкий, модель плохая.\n",
    "'''\n",
    "model.score(X_test, y_test)"
   ]
  },
  {
   "cell_type": "code",
   "execution_count": 62,
   "id": "e234abc1",
   "metadata": {},
   "outputs": [
    {
     "name": "stdout",
     "output_type": "stream",
     "text": [
      "(24, 1)\n",
      "(11, 1)\n",
      "(24,)\n"
     ]
    }
   ],
   "source": [
    "print(X_train.shape)\n",
    "print(X_test.shape)\n",
    "print(y_train.shape)"
   ]
  },
  {
   "cell_type": "code",
   "execution_count": 67,
   "id": "1d949c78",
   "metadata": {},
   "outputs": [
    {
     "data": {
      "image/png": "[encoded data removed]",
      "text/plain": [
       "<Figure size 432x288 with 1 Axes>"
      ]
     },
     "metadata": {
      "needs_background": "light"
     },
     "output_type": "display_data"
    }
   ],
   "source": [
    "#Вывести график остатков\n",
    "'''\n",
    "Остатки распределны рандомно не совсем равномерно равномерно, в левой части видим небольшое скопление, \n",
    "Данных мало, для заключения о работоспособности модели\n",
    "'''\n",
    "sns.residplot(X_test, y_pred-y_test, color='indigo')\n",
    "plt.xlabel('Прогноз', fontdict={'size':12})\n",
    "plt.ylabel('Остатки', fontdict={'size':12})\n",
    "plt.show()"
   ]
  },
  {
   "cell_type": "code",
   "execution_count": 74,
   "id": "706d80f7",
   "metadata": {},
   "outputs": [
    {
     "data": {
      "image/png": "[encoded data removed]",
      "text/plain": [
       "<Figure size 432x288 with 1 Axes>"
      ]
     },
     "metadata": {
      "needs_background": "light"
     },
     "output_type": "display_data"
    }
   ],
   "source": [
    "plt.hist(y_pred-y_test, bins=20)\n",
    "'''\n",
    "По гистограмме видно что модель плохая - хвосты больше тела\n",
    "'''\n",
    "plt.xlabel('Прогноз', fontdict={'size':12})\n",
    "plt.ylabel('Остатки', fontdict={'size':12})\n",
    "plt.show()"
   ]
  },
  {
   "cell_type": "code",
   "execution_count": 32,
   "id": "ca392650",
   "metadata": {},
   "outputs": [
    {
     "data": {
      "image/png": "[encoded data removed]",
      "text/plain": [
       "<Figure size 432x288 with 1 Axes>"
      ]
     },
     "metadata": {
      "needs_background": "light"
     },
     "output_type": "display_data"
    }
   ],
   "source": [
    "#Построить точечный график - South\n",
    "'''Взаимосвязь практически отсутствует, хоть и видна обратная линейная корреляция.\n",
    "'''\n",
    "sns.regplot(data=df_south, x='hardness', y='mortality', color='orangered')\n",
    "plt.title('Зависимость между жесткостью воды и смертностью', fontdict={'size':12})\n",
    "plt.xlabel('Жесткость воды', fontdict={'size':10})\n",
    "plt.ylabel('Смертность', fontdict={'size':10})\n",
    "plt.show()"
   ]
  },
  {
   "cell_type": "code",
   "execution_count": 85,
   "id": "e073f355",
   "metadata": {},
   "outputs": [
    {
     "name": "stdout",
     "output_type": "stream",
     "text": [
      "Коэффициент Пирсона: -0.6022\n",
      "Коэффициент Спирмана: -0.5957\n"
     ]
    }
   ],
   "source": [
    "#Рассчитать коэффициенты корреляции Пирсона и Спирмена\n",
    "'''Так как оба коэффициента лежат в пределах от -0,5 до -0,74 и ближе ко второй границе, \n",
    "то корреляция является высокой отрицательной, хотя по графику я бы так не сказал.\n",
    "'''\n",
    "print(f\"Коэффициент Пирсона: {round(df_south[['hardness', 'mortality']].corr()['mortality'][0], 4)}\")\n",
    "print(f\"Коэффициент Спирмана: {round(df_south[['hardness', 'mortality']].corr(method='spearman')['mortality'][0], 4)}\")"
   ]
  },
  {
   "cell_type": "code",
   "execution_count": 91,
   "id": "c15def81",
   "metadata": {},
   "outputs": [
    {
     "data": {
      "text/plain": [
       "array([1421.97087375, 1416.07025525, 1331.49472353, 1321.66035938,\n",
       "       1447.54022055, 1492.77829565, 1479.01018584, 1494.74516848])"
      ]
     },
     "execution_count": 91,
     "metadata": {},
     "output_type": "execute_result"
    }
   ],
   "source": [
    "#Построить модель линейной регрессии\n",
    "X = df_south[['hardness']]\n",
    "y = df_south['mortality']\n",
    "\n",
    "X_train, X_test, y_train, y_test = train_test_split(X, y, test_size=0.30, random_state = 27)\n",
    "\n",
    "model = LinearRegression()\n",
    "model.fit(X_train, y_train)\n",
    "\n",
    "y_pred = model.predict(X_test)\n",
    "y_pred"
   ]
  },
  {
   "cell_type": "code",
   "execution_count": 93,
   "id": "15dc409b",
   "metadata": {},
   "outputs": [
    {
     "data": {
      "text/plain": [
       "0.28310460335810184"
      ]
     },
     "execution_count": 93,
     "metadata": {},
     "output_type": "execute_result"
    }
   ],
   "source": [
    "#Рассчитать коэффициент детерминации\n",
    "'''Коэффициент невысокий, модель не очень хороша.\n",
    "'''\n",
    "model.score(X_test, y_test)"
   ]
  },
  {
   "cell_type": "code",
   "execution_count": 94,
   "id": "5e9b396e",
   "metadata": {},
   "outputs": [
    {
     "name": "stdout",
     "output_type": "stream",
     "text": [
      "(18, 1)\n",
      "(8, 1)\n",
      "(18,)\n"
     ]
    }
   ],
   "source": [
    "print(X_train.shape)\n",
    "print(X_test.shape)\n",
    "print(y_train.shape)"
   ]
  },
  {
   "cell_type": "code",
   "execution_count": 96,
   "id": "3671dd84",
   "metadata": {},
   "outputs": [
    {
     "data": {
      "image/png": "[encoded data removed]",
      "text/plain": [
       "<Figure size 432x288 with 1 Axes>"
      ]
     },
     "metadata": {
      "needs_background": "light"
     },
     "output_type": "display_data"
    }
   ],
   "source": [
    "#Вывести график остатков\n",
    "'''\n",
    "Остатки распределны рандомно не совсем равномерно. Данных мало, для заключения о работоспособности модели\n",
    "'''\n",
    "sns.residplot(X_test, y_pred-y_test, color='indigo')\n",
    "plt.xlabel('Прогноз', fontdict={'size':12})\n",
    "plt.ylabel('Остатки', fontdict={'size':12})\n",
    "plt.show()"
   ]
  },
  {
   "cell_type": "code",
   "execution_count": 97,
   "id": "c597df7e",
   "metadata": {},
   "outputs": [
    {
     "data": {
      "image/png": "[encoded data removed]",
      "text/plain": [
       "<Figure size 432x288 with 1 Axes>"
      ]
     },
     "metadata": {
      "needs_background": "light"
     },
     "output_type": "display_data"
    }
   ],
   "source": [
    "plt.hist(y_pred-y_test, bins=20)\n",
    "'''\n",
    "По гистограмме видно что равномерные, но не более того, дополнительное заключениед дать сложно - мало данных.\n",
    "'''\n",
    "plt.xlabel('Прогноз', fontdict={'size':12})\n",
    "plt.ylabel('Остатки', fontdict={'size':12})\n",
    "plt.show()"
   ]
  }
 ],
 "metadata": {
  "kernelspec": {
   "display_name": "Python 3 (ipykernel)",
   "language": "python",
   "name": "python3"
  },
  "language_info": {
   "codemirror_mode": {
    "name": "ipython",
    "version": 3
   },
   "file_extension": ".py",
   "mimetype": "text/x-python",
   "name": "python",
   "nbconvert_exporter": "python",
   "pygments_lexer": "ipython3",
   "version": "3.9.7"
  }
 },
 "nbformat": 4,
 "nbformat_minor": 5
}
