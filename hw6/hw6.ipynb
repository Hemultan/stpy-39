{
 "cells": [
  {
   "cell_type": "code",
   "execution_count": 1,
   "id": "5012194a",
   "metadata": {},
   "outputs": [],
   "source": [
    "import numpy as np\n",
    "import pandas as pd\n",
    "from scipy import stats\n",
    "import matplotlib.pyplot as plt\n",
    "import seaborn as sns"
   ]
  },
  {
   "cell_type": "markdown",
   "id": "f024f778",
   "metadata": {},
   "source": [
    "<div class=\"alert alert-info\">\n",
    "<b>Задание № 0</b>\n",
    "\n",
    "Найдите минимально необходимый объем выборки для построения интервальной оценки среднего.\n",
    "\n",
    "- желаемая точность $\\Delta$ = 3;\n",
    "- дисперсия $\\sigma^2$  = 225;\n",
    "- уровень доверия $\\beta$ = 0.95.\n",
    "    \n",
    "Ответ округлите до целого\n",
    "</div>"
   ]
  },
  {
   "cell_type": "code",
   "execution_count": 2,
   "id": "91e09ee3",
   "metadata": {
    "scrolled": true
   },
   "outputs": [
    {
     "name": "stdout",
     "output_type": "stream",
     "text": [
      "Минимально необходимый объем выборки для построения интервальной оценки среднего: 96.0\n"
     ]
    }
   ],
   "source": [
    "Za = 1.96\n",
    "delta = 3\n",
    "disp = 225\n",
    "sigma = np.sqrt(disp)\n",
    "n = round(((Za * sigma) / delta)**2, 0)\n",
    "print(f'Минимально необходимый объем выборки для построения интервальной оценки среднего: {n}')"
   ]
  },
  {
   "cell_type": "markdown",
   "id": "72845219",
   "metadata": {},
   "source": [
    "<div class=\"alert alert-info\">\n",
    "<b>Задание № 1</b>\n",
    "\n",
    "Постройте `98% доверительный интервал` для среднего значения, если известно, что\n",
    "\n",
    "- объем выборки n = 25;\n",
    "- среднее значение по выборке $\\overline x$ = 130;\n",
    "- Из достоверных источников известно стандартное отклонение $\\sigma = 15$.\n",
    "    \n",
    "В ответ укажите длину полученного доверительного интервала (разницу между правым и левым концом), окруленную до целого\n",
    "</div>"
   ]
  },
  {
   "cell_type": "code",
   "execution_count": 106,
   "id": "18c7c0dc",
   "metadata": {},
   "outputs": [
    {
     "name": "stdout",
     "output_type": "stream",
     "text": [
      "Длина полученного доверительного интервала: 15\n"
     ]
    }
   ],
   "source": [
    "n_1 = 25\n",
    "dof_1 = n - 1\n",
    "mn_1 = 130\n",
    "sigma_1 = 15\n",
    "T_1 = 2.492\n",
    "left_CI = mn_1 - ((sigma_1 / np.sqrt(n_1)) * T_1)\n",
    "right_CI = mn_1 + ((sigma_1 / np.sqrt(n_1)) * T_1)\n",
    "L = right_CI - left_CI\n",
    "print(f'Длина полученного доверительного интервала: {L:.0f}')"
   ]
  },
  {
   "cell_type": "markdown",
   "id": "5973b2fc",
   "metadata": {},
   "source": [
    "### 2. Вам даны две выборки роста мужчин и женщин. Докажите, используя t-Тест Стьюдента, что различия между выборками незначительно, если уровень значимости равен 0.001"
   ]
  },
  {
   "cell_type": "markdown",
   "id": "59fcbf6d",
   "metadata": {},
   "source": [
    "<div class=\"alert alert-info\">\n",
    "<b>Задание № 2</b>\n",
    "\n",
    "Даны две выборки роста мужчин и женщин. \n",
    "- Докажите, используя `t-Тест Стьюдента`, что различие между выборками незначительно, если уровень значимости равен $\\alpha$ `= 0.001`.\n",
    "- Покажите различия визуально\n",
    "</div>"
   ]
  },
  {
   "cell_type": "code",
   "execution_count": 118,
   "id": "441d3b34",
   "metadata": {},
   "outputs": [
    {
     "name": "stdout",
     "output_type": "stream",
     "text": [
      "Отклоняем нулевую гипотезу, средние, вероятно, различаются\n"
     ]
    }
   ],
   "source": [
    "import scipy.stats as st\n",
    "np.random.seed(42) #фиксация случайности\n",
    "\n",
    "mens  = st.norm.rvs(loc=171, scale=100, size=150000)  # Выборка мужчин со средним ростом 171\n",
    "womens = st.norm.rvs(loc=170, scale=100, size=150000)  # Выборка женщин со средним ростом 170\n",
    "#В двух строчках выше генерируется две выбороки, где loc это среднее значение, а scale это дисперсия\n",
    "\n",
    "'''Я бы обработал обе выборки изменив рост на мм (1710 и 1700 соответственно) росто так более нагляден, \n",
    "а дисперсию заменил на стандартное отклонение в 10, во избежание ошибки, с отрицательным ростом'''\n",
    "\n",
    "mens_1  = st.norm.rvs(loc=1710, scale=10, size=150000) \n",
    "womens_1 = st.norm.rvs(loc=1700, scale=10, size=150000)\n",
    "\n",
    "stat_2, p_2 = st.ttest_ind(mens_1, womens_1)\n",
    "\n",
    "if p_2 > 0.001:\n",
    "    print('Не отклоняем нулевую гипотезу, средние, вероятно, одинаковые')\n",
    "else:\n",
    "    print('Отклоняем нулевую гипотезу, средние, вероятно, различаются')"
   ]
  },
  {
   "cell_type": "code",
   "execution_count": 119,
   "id": "33687f3e",
   "metadata": {},
   "outputs": [
    {
     "data": {
      "image/png": "[encoded data removed]",
      "text/plain": [
       "<Figure size 432x288 with 1 Axes>"
      ]
     },
     "metadata": {
      "needs_background": "light"
     },
     "output_type": "display_data"
    }
   ],
   "source": [
    "plt.hist(mens_1, bins=30)\n",
    "plt.hist(womens_1, bins=30)\n",
    "plt.show()"
   ]
  },
  {
   "cell_type": "markdown",
   "id": "39a1e36c",
   "metadata": {},
   "source": [
    "### 3. Определите объем необходимой выборки для исследования среднего чека за кофе в случайном городе, если известно, что в этом городе стандартное отклонение = 150, уровень доверия = 95%. Погрешность 50 рублей. "
   ]
  },
  {
   "cell_type": "markdown",
   "id": "e463416f",
   "metadata": {},
   "source": [
    "<div class=\"alert alert-info\">\n",
    "<b>Задание № 3</b>\n",
    "\n",
    "Определите объем необходимой выборки для исследования среднего чека за кофе в случайном городе если известно, что в этом городе:\n",
    "\n",
    "- стандартное отклонение $\\sigma = 150$;\n",
    "- уровень доверия $\\beta$  = 95%;\n",
    "- Погрешность $\\Delta = 50$ рублей.\n",
    "</div>"
   ]
  },
  {
   "cell_type": "code",
   "execution_count": 3,
   "id": "ec0c6e97",
   "metadata": {},
   "outputs": [
    {
     "name": "stdout",
     "output_type": "stream",
     "text": [
      "Объем необходимой выборки для исследования среднего чека за кофе в случайном городе: 35\n"
     ]
    }
   ],
   "source": [
    "sigma_3 = 150\n",
    "Za_3 = 1.96\n",
    "delta_3 = 50\n",
    "n_3 = ((Za_3 * sigma_3) / delta_3)**2\n",
    "print(f'Объем необходимой выборки для исследования среднего чека за кофе в случайном городе: {n_3:1.0f}')"
   ]
  },
  {
   "cell_type": "markdown",
   "id": "b317e486",
   "metadata": {},
   "source": [
    "<div class=\"alert alert-info\">\n",
    "<b>Задание № 4</b>\n",
    "\n",
    "Представьте, что вы хотите разоблачить \"волшебника\" который считает, что умеет предсказывать погоду на завтра, отвечая просто: дождь или солнце. Вы пронаблюдали за ответами \"волшебника\" в течении какого-то периода времени и получили некие результаты (см.ниже).\n",
    "\n",
    "Можно ли сказать, что маг действительно умеет предсказывать погоду? Уровень значимости принять за `0.05` ($\\alpha=0.05$).\n",
    "</div>"
   ]
  },
  {
   "cell_type": "code",
   "execution_count": 142,
   "id": "4d1fc637",
   "metadata": {},
   "outputs": [
    {
     "data": {
      "text/html": [
       "<div>\n",
       "<style scoped>\n",
       "    .dataframe tbody tr th:only-of-type {\n",
       "        vertical-align: middle;\n",
       "    }\n",
       "\n",
       "    .dataframe tbody tr th {\n",
       "        vertical-align: top;\n",
       "    }\n",
       "\n",
       "    .dataframe thead th {\n",
       "        text-align: right;\n",
       "    }\n",
       "</style>\n",
       "<table border=\"1\" class=\"dataframe\">\n",
       "  <thead>\n",
       "    <tr style=\"text-align: right;\">\n",
       "      <th></th>\n",
       "      <th>Верные ответы волшебника</th>\n",
       "      <th>Неверные ответы</th>\n",
       "    </tr>\n",
       "  </thead>\n",
       "  <tbody>\n",
       "    <tr>\n",
       "      <th>Дождь</th>\n",
       "      <td>10</td>\n",
       "      <td>15</td>\n",
       "    </tr>\n",
       "    <tr>\n",
       "      <th>Солнце</th>\n",
       "      <td>39</td>\n",
       "      <td>34</td>\n",
       "    </tr>\n",
       "  </tbody>\n",
       "</table>\n",
       "</div>"
      ],
      "text/plain": [
       "        Верные ответы волшебника  Неверные ответы\n",
       "Дождь                         10               15\n",
       "Солнце                        39               34"
      ]
     },
     "execution_count": 142,
     "metadata": {},
     "output_type": "execute_result"
    }
   ],
   "source": [
    "observations = pd.DataFrame([[10, 15],[39, 34]],\n",
    "                            index=['Дождь','Солнце'],\n",
    "                            columns=['Верные ответы волшебника','Неверные ответы'])\n",
    "observations"
   ]
  },
  {
   "cell_type": "code",
   "execution_count": 147,
   "id": "93e9dbb4",
   "metadata": {},
   "outputs": [
    {
     "name": "stdout",
     "output_type": "stream",
     "text": [
      "p-value = 0.353969, уровень значимости = 0.05\n",
      "\n",
      "На уровене значимости 0.05, мы не отвергаем нулевые гипотезы. Они независимы.\n",
      "Наш волшебник, скорее шарлатан!\n"
     ]
    }
   ],
   "source": [
    "# Учтите, что у стат. тестов, в том числе и точного теста Фишера под нулевой гипотезой подразумевается случайность/отсутсвие эффекта\n",
    "chi, p_4, dof_4, exp = st.chi2_contingency(observations.values)\n",
    "significance = 0.05\n",
    "print(f'p-value = {p_4:.6f}, уровень значимости = {significance:.2f}\\n')\n",
    "\n",
    "if p_4 > significance:\n",
    "    print(f'На уровене значимости {significance:.2f}, мы не отвергаем нулевые гипотезы. Они независимы.')\n",
    "    print('Наш волшебник, скорее шарлатан!')\n",
    "else:\n",
    "    print(f'На уровене значимости {significance:.2f}, мы отвергаем нулевые гипотезы и принимаем H1. Они не независимы.')\n",
    "    print('Это правда волшебник!')"
   ]
  },
  {
   "cell_type": "markdown",
   "id": "4f6e5ea9",
   "metadata": {},
   "source": [
    "<div class=\"alert alert-info\">\n",
    "<b>Задание № 5</b> \n",
    "\n",
    "Используя функцию mean_confidence_interval(data, confidence), постройте доверительный интервал с уровнем доверия $\\beta = 90\\%$ для выборки:\n",
    "\n",
    "</div>"
   ]
  },
  {
   "cell_type": "code",
   "execution_count": 148,
   "id": "66504218",
   "metadata": {},
   "outputs": [],
   "source": [
    "data = [4,5,8,9,6,7,5,6,7,8,5,6,7,0,9,8,4,6,\n",
    "        7,9,8,6,5,7,8,9,6,7,5,8,6,7,9,5,10]"
   ]
  },
  {
   "cell_type": "code",
   "execution_count": 157,
   "id": "77b03a6e",
   "metadata": {},
   "outputs": [
    {
     "name": "stdout",
     "output_type": "stream",
     "text": [
      "Левая граница ДИ: 6.073631, Правая граница ДИ: 7.183512\n"
     ]
    }
   ],
   "source": [
    "def mean_confidence_interval(data, confidence=0.95): \n",
    "    n = len(data)\n",
    "    m, se = np.mean(data), st.sem(data)\n",
    "    h = se * st.t.ppf((1 + confidence)/2, n-1)  #  функция ppf из scipy возвращает нам перцентиль\n",
    "    return m-h, m, m+h \n",
    "\n",
    "left_CI_5, mean_in_CI, right_CI_5 = mean_confidence_interval(data, confidence=0.9)\n",
    "print(f'Левая граница ДИ: {left_CI_5:.6f}, Правая граница ДИ: {right_CI_5:.6f}')"
   ]
  },
  {
   "cell_type": "markdown",
   "id": "c98c832e",
   "metadata": {},
   "source": [
    "<div class=\"alert alert-info\">\n",
    "<b>Задание № 6</b>\n",
    "\n",
    "Принадлежат ли выборки `A` и `B` одному множеству? \n",
    "    \n",
    "- Оцените это с помощью известных вам тестов для проверок статистических гипотез;\n",
    "- Покажите различия визуально.\n",
    "</div>"
   ]
  },
  {
   "cell_type": "code",
   "execution_count": 158,
   "id": "9d9a876c",
   "metadata": {},
   "outputs": [],
   "source": [
    "A = [4,5,8,9,6,7,5,6,7,6,8,5,6,7,8,4,\n",
    "    6,7,9,8,6,5,7,8,6,7,5,6,8,6,7,5,\n",
    "    4,5,8,9,6,7,5,6,7,6,8,5,6,7,8,4,\n",
    "    6,7,9,8,6,5,7,8,6,7,5,6,8,6,7,5,\n",
    "    4,5,8,9,6,7,5,6,7,6,8,5,6,7,8,4,\n",
    "    6,7,9,8,6,5,7,8,6,7,5,6,8,6,7,5,\n",
    "    4,5,8,9,6,7,5,6,7,6,8,5,6,7,8,4]\n",
    "\n",
    "B = [5,6,7,8,4,6,7,2,6,5,7,5,3,5,3,\n",
    "    5,3,5,5,8,7,6,4,5,3,5,4,6,4,5,3,\n",
    "    2,6,4,3,5,4,3,4,5,4,3,4,5,4,3,4,\n",
    "    2,6,4,3,5,4,3,4,5,4,3,4,5,4,3,4,\n",
    "    3,4,4,1,2,4,3,2,4,3,2,1,5,3,4,6,\n",
    "    3,2,4,5,6,4,3,3,5,3,4,4,4,2,5,3]"
   ]
  },
  {
   "cell_type": "code",
   "execution_count": 183,
   "id": "5eed23df",
   "metadata": {},
   "outputs": [
    {
     "name": "stdout",
     "output_type": "stream",
     "text": [
      "p-value: 4.623319592204015e-25 ниже 0,001. Отклоняем нулевую гипотезу, средние, вероятно, различаются\n"
     ]
    }
   ],
   "source": [
    "stat_7, p_7 = st.ttest_ind(A, B)\n",
    "if p_7 > 0.001:\n",
    "    print('Не отклоняем нулевую гипотезу, средние, вероятно, одинаковые')\n",
    "else:\n",
    "    print(f'p-value: {p_7} ниже 0,001. Отклоняем нулевую гипотезу, средние, вероятно, различаются')"
   ]
  },
  {
   "cell_type": "code",
   "execution_count": 185,
   "id": "9e56822a",
   "metadata": {},
   "outputs": [
    {
     "data": {
      "image/png": "[encoded data removed]",
      "text/plain": [
       "<Figure size 432x288 with 1 Axes>"
      ]
     },
     "metadata": {
      "needs_background": "light"
     },
     "output_type": "display_data"
    },
    {
     "name": "stdout",
     "output_type": "stream",
     "text": [
      "И графике мы видим отчетливое расхождение\n"
     ]
    }
   ],
   "source": [
    "plt.hist(A, bins=15)\n",
    "plt.hist(B, bins=15)\n",
    "plt.show()\n",
    "print('И графике мы видим отчетливое расхождение')"
   ]
  },
  {
   "cell_type": "markdown",
   "id": "0cf9f41f",
   "metadata": {},
   "source": [
    "<div class=\"alert alert-info\">\n",
    "<b>Задание № 7 (задание без подвоха)</b>\n",
    "\n",
    "На примере датасета про жилье в New York City, мы сталкивались с примером, когда переменная имеет не совсем нормальное распределение. \n",
    "\n",
    "- Предположим, Вы сформировали две гипотезы:\n",
    "    - нулевая гипотеза - распределение нормальное;\n",
    "    - альтернативная гипотеза - распределение ненормальное.\n",
    "- допустим, вы применили какой-то тест (сейчас неважно какой), который показал уровень значимости  `p-value = 0.03`. Каковы будут ваши выводы? Будем считать что у нас нормальное распределение или все-таки нет?)\n",
    "    \n",
    "</div>"
   ]
  },
  {
   "cell_type": "markdown",
   "id": "8c6d414e",
   "metadata": {},
   "source": [
    "Если правильно понимаю, то с высокой вероятность при значениях до 0.1, с крайне высокой до 0.05 и чем ближе к 0, тем выше вероятность, что распределение является нормальным.\n",
    "Наше значение - 0.03, ответ, с высокой долей вероятности, распределение является нормальным."
   ]
  },
  {
   "cell_type": "markdown",
   "id": "cf550ec8",
   "metadata": {},
   "source": [
    "<div class=\"alert alert-info\">\n",
    "<b>Задание № 8</b>\n",
    "    \n",
    "Первая выборка — это пациенты, которых лечили препаратом `А`.  Вторая выборка — пациенты, которых лечили препаратом `B`.\n",
    "\n",
    "Значения в выборках — это некоторая характеристика эффективности лечения (уровень метаболита в крови, температура через три дня после начала лечения, срок выздоровления, число койко-дней, и т.д.) \n",
    "\n",
    "- Требуется выяснить, имеется ли значимое различие эффективности препаратов `А` и `B`, или различия являются чисто случайными и объясняются «естественной» дисперсией выбранной характеристики?  (`уровень значимости принять за 0.05 (5%)`)\n",
    "\n",
    "- При каком минимальном p-value различия были бы уже значимы? \n",
    "    \n",
    "- Если выборки незначительно отличаются, то продемонстрируйте это визуально\n",
    "</div>"
   ]
  },
  {
   "cell_type": "code",
   "execution_count": 4,
   "id": "63420a06",
   "metadata": {},
   "outputs": [
    {
     "data": {
      "text/html": [
       "<div>\n",
       "<style scoped>\n",
       "    .dataframe tbody tr th:only-of-type {\n",
       "        vertical-align: middle;\n",
       "    }\n",
       "\n",
       "    .dataframe tbody tr th {\n",
       "        vertical-align: top;\n",
       "    }\n",
       "\n",
       "    .dataframe thead th {\n",
       "        text-align: right;\n",
       "    }\n",
       "</style>\n",
       "<table border=\"1\" class=\"dataframe\">\n",
       "  <thead>\n",
       "    <tr style=\"text-align: right;\">\n",
       "      <th></th>\n",
       "      <th>Препарат А</th>\n",
       "      <th>Препарат B</th>\n",
       "    </tr>\n",
       "  </thead>\n",
       "  <tbody>\n",
       "    <tr>\n",
       "      <th>0</th>\n",
       "      <td>195.241821</td>\n",
       "      <td>173.214820</td>\n",
       "    </tr>\n",
       "    <tr>\n",
       "      <th>1</th>\n",
       "      <td>164.708905</td>\n",
       "      <td>172.199948</td>\n",
       "    </tr>\n",
       "    <tr>\n",
       "      <th>2</th>\n",
       "      <td>161.731523</td>\n",
       "      <td>175.303146</td>\n",
       "    </tr>\n",
       "    <tr>\n",
       "      <th>3</th>\n",
       "      <td>129.200222</td>\n",
       "      <td>167.842906</td>\n",
       "    </tr>\n",
       "    <tr>\n",
       "      <th>4</th>\n",
       "      <td>168.875731</td>\n",
       "      <td>150.405378</td>\n",
       "    </tr>\n",
       "  </tbody>\n",
       "</table>\n",
       "</div>"
      ],
      "text/plain": [
       "   Препарат А  Препарат B\n",
       "0  195.241821  173.214820\n",
       "1  164.708905  172.199948\n",
       "2  161.731523  175.303146\n",
       "3  129.200222  167.842906\n",
       "4  168.875731  150.405378"
      ]
     },
     "execution_count": 4,
     "metadata": {},
     "output_type": "execute_result"
    }
   ],
   "source": [
    "np.random.seed(11)\n",
    "A = stats.norm.rvs(scale=15, loc=169, size=300)\n",
    "B = stats.norm.rvs(scale=14, loc=171.4, size=300)\n",
    "data_frame = pd.DataFrame({'Препарат А': A,\n",
    "                          'Препарат B': B})\n",
    "data_frame.head()\n",
    "# Подсказка, обратите внимание на Two-sample T-test"
   ]
  },
  {
   "cell_type": "code",
   "execution_count": 219,
   "id": "d48d0aea",
   "metadata": {},
   "outputs": [
    {
     "name": "stdout",
     "output_type": "stream",
     "text": [
      "Статистика = -2.035, p_value = 0.043\n",
      "Отклоняем нулевую гипотезу, эффективность препаратов различается\n"
     ]
    }
   ],
   "source": [
    "stat_8, p_8 = st.ttest_rel(a=A, b=B)\n",
    "\n",
    "print(f\"Статистика = {stat_8:.3f}, p_value = {p_8:.3f}\")\n",
    "if p_8 > 0.05:\n",
    "    print('Не отклоняем нулевую гипотезу, средние, вероятно, одинаковые')\n",
    "else:\n",
    "    print('Отклоняем нулевую гипотезу, эффективность препаратов различается')"
   ]
  },
  {
   "cell_type": "code",
   "execution_count": 5,
   "id": "256d2fb0",
   "metadata": {},
   "outputs": [
    {
     "data": {
      "image/png": "[encoded data removed]",
      "text/plain": [
       "<Figure size 432x288 with 1 Axes>"
      ]
     },
     "metadata": {
      "needs_background": "light"
     },
     "output_type": "display_data"
    },
    {
     "name": "stdout",
     "output_type": "stream",
     "text": [
      "Визуально мы понимаем, что разночтения есть, хотя и прослеживается некоторая корреляция\n",
      "\n",
      "Если бы значении p=value было менее 0.05 различия будут уменьшаяться, в сторону нулевой гипотезы, а если более 0.05, то наоборот.\n"
     ]
    }
   ],
   "source": [
    "plt.hist(B, bins=60)\n",
    "plt.hist(A, bins=60)\n",
    "plt.show()\n",
    "print('Визуально мы понимаем, что разночтения есть, хотя и прослеживается некоторая корреляция\\n\\nЕсли бы значении p=value было менее 0.05 различия будут уменьшаяться, в сторону нулевой гипотезы, а если более 0.05, то наоборот.')"
   ]
  }
 ],
 "metadata": {
  "kernelspec": {
   "display_name": "Python 3 (ipykernel)",
   "language": "python",
   "name": "python3"
  },
  "language_info": {
   "codemirror_mode": {
    "name": "ipython",
    "version": 3
   },
   "file_extension": ".py",
   "mimetype": "text/x-python",
   "name": "python",
   "nbconvert_exporter": "python",
   "pygments_lexer": "ipython3",
   "version": "3.9.7"
  }
 },
 "nbformat": 4,
 "nbformat_minor": 5
}
