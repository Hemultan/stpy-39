{
 "cells": [
  {
   "cell_type": "markdown",
   "id": "3f388c7d",
   "metadata": {},
   "source": [
    "### Задание\n",
    "Смоделировать игру против лотерейного автомата типа “777”. Игрок платит 1 руб., после чего выпадает случайное целое число, равномерно распределенное от 0 до 999. При некоторых значениях числа игрок получает выигрыш.\n",
    "\n",
    "777: 200 руб.\n",
    "999: 100 руб.\n",
    "555: 50 руб.\n",
    "333: 15 руб.\n",
    "111: 10 руб.\n",
    "*77: 5 руб.\n",
    "**7: 3 руб.\n",
    "*00: 2 руб.\n",
    "**0: 1 руб.\n",
    "\n",
    "Вопросы:\n",
    "\n",
    "Выгодна ли игра игроку?\n",
    "Сколько в среднем приобретает или теряет игрок за одну игру?\n",
    "\n",
    "#### **Дополнительное задание повышенной сложности. **\n",
    "\n",
    "Теоретически рассчитать средний выигрыш (проигрыш) и сравнить с результатами моделирования\n",
    "\n",
    "– любая цифра"
   ]
  },
  {
   "cell_type": "code",
   "execution_count": 86,
   "id": "8d14e064",
   "metadata": {
    "scrolled": true
   },
   "outputs": [
    {
     "name": "stdout",
     "output_type": "stream",
     "text": [
      "За 1000000 попыток игрок теряет: -211983\n",
      "В среднем за 1 попытку игрок теряет: -0.211983\n",
      "\n",
      "Вывод: игра не выгодна для игрока\n",
      "Wall time: 2.24 s\n"
     ]
    }
   ],
   "source": [
    "%%time\n",
    "import numpy as np\n",
    "\n",
    "tries = 1000000\n",
    "bet = 1\n",
    "gain = 0\n",
    "\n",
    "for i in range(tries):\n",
    "    attempt = np.random.randint(0, 1000)\n",
    "    if attempt == 777:\n",
    "        gain += 199\n",
    "    elif attempt == 999:\n",
    "        gain += 99\n",
    "    elif attempt == 555:\n",
    "        gain += 49\n",
    "    elif attempt == 333:\n",
    "        gain += 14\n",
    "    elif attempt == 111:\n",
    "        gain += 9\n",
    "    elif (attempt % 100 == 77 and attempt != 777):\n",
    "        gain += 4\n",
    "    elif (attempt % 10 == 7 and attempt != 777 and attempt != 77 and attempt % 70 != 0):\n",
    "        gain += 2\n",
    "    elif attempt % 100 == 0:\n",
    "        gain += 1\n",
    "    elif (attempt % 10 == 0 and attempt != 0 and attempt % 100 != 0):\n",
    "        gain += 0\n",
    "    else:\n",
    "        gain -= 1\n",
    "\n",
    "monte_carlo = gain / tries\n",
    "\n",
    "print(f'За {tries} попыток игрок теряет: {gain}\\nВ среднем за 1 попытку игрок теряет: {monte_carlo}\\n\\nВывод: игра не выгодна для игрока')"
   ]
  },
  {
   "cell_type": "markdown",
   "id": "250216fb",
   "metadata": {},
   "source": [
    "#### Доп. задание"
   ]
  },
  {
   "cell_type": "code",
   "execution_count": 88,
   "id": "0c2bc254",
   "metadata": {},
   "outputs": [
    {
     "name": "stdout",
     "output_type": "stream",
     "text": [
      "Теоретический выйгрыш за 1 игру: -0.246\n",
      "Результат можелирования: -0.212\n"
     ]
    }
   ],
   "source": [
    "qty_roll = 1000\n",
    "p777, p999, p555, p333, p111 = 1/1000, 1/1000, 1/1000, 1/1000, 1/1000\n",
    "p77 = (qty_roll/100-1)/1000\n",
    "p7 = ((qty_roll/10)-(qty_roll/100+1)-(qty_roll//70))/1000\n",
    "p00 = (qty_roll/100)/1000\n",
    "p0 = ((qty_roll/10)-(qty_roll/100+1))/1000\n",
    "loose = 1 - (p777 + p999 + p555 + p333 + p111 + p77 + p7 + p00 + p0)\n",
    "\n",
    "p = ((p777*199)+(p999*99)+(p555*49)+(p333*14)+(p111*9)+(p77*4)+(p7*2)+(p00*1)+(p0*0)+(loose*(-1)))/1\n",
    "print(f'Теоретический выйгрыш за 1 игру: {p}\\nРезультат моделирования: {round(monte_carlo, 3)}')"
   ]
  }
 ],
 "metadata": {
  "kernelspec": {
   "display_name": "Python 3 (ipykernel)",
   "language": "python",
   "name": "python3"
  },
  "language_info": {
   "codemirror_mode": {
    "name": "ipython",
    "version": 3
   },
   "file_extension": ".py",
   "mimetype": "text/x-python",
   "name": "python",
   "nbconvert_exporter": "python",
   "pygments_lexer": "ipython3",
   "version": "3.9.7"
  }
 },
 "nbformat": 4,
 "nbformat_minor": 5
}
