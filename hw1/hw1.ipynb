{
 "cells": [
  {
   "cell_type": "code",
   "execution_count": 1,
   "id": "8507e028",
   "metadata": {},
   "outputs": [],
   "source": [
    "import pandas as pd\n",
    "import numpy as np"
   ]
  },
  {
   "cell_type": "markdown",
   "id": "6775a577",
   "metadata": {},
   "source": [
    "### Задание 1. Загрузка данных\n",
    "\n",
    "Изучить представленный набор данных на основе описания его столбцов, загрузить его и оставить 8 столбцов для дальнейшего изучения: surgery?, Age, rectal temperature, pulse, respiratory rate, temperature of extremities, pain, outcome."
   ]
  },
  {
   "cell_type": "code",
   "execution_count": 2,
   "id": "d9929d64",
   "metadata": {},
   "outputs": [
    {
     "name": "stdout",
     "output_type": "stream",
     "text": [
      "Wall time: 4 ms\n"
     ]
    },
    {
     "data": {
      "text/html": [
       "<div>\n",
       "<style scoped>\n",
       "    .dataframe tbody tr th:only-of-type {\n",
       "        vertical-align: middle;\n",
       "    }\n",
       "\n",
       "    .dataframe tbody tr th {\n",
       "        vertical-align: top;\n",
       "    }\n",
       "\n",
       "    .dataframe thead th {\n",
       "        text-align: right;\n",
       "    }\n",
       "</style>\n",
       "<table border=\"1\" class=\"dataframe\">\n",
       "  <thead>\n",
       "    <tr style=\"text-align: right;\">\n",
       "      <th></th>\n",
       "      <th>surgery?</th>\n",
       "      <th>Age</th>\n",
       "      <th>rectal temperature</th>\n",
       "      <th>pulse</th>\n",
       "      <th>respiratory rate</th>\n",
       "      <th>temperature of extremities</th>\n",
       "      <th>pain</th>\n",
       "      <th>outcome</th>\n",
       "    </tr>\n",
       "  </thead>\n",
       "  <tbody>\n",
       "    <tr>\n",
       "      <th>0</th>\n",
       "      <td>2.0</td>\n",
       "      <td>1</td>\n",
       "      <td>38.5</td>\n",
       "      <td>66.0</td>\n",
       "      <td>28.0</td>\n",
       "      <td>3.0</td>\n",
       "      <td>5.0</td>\n",
       "      <td>2.0</td>\n",
       "    </tr>\n",
       "    <tr>\n",
       "      <th>1</th>\n",
       "      <td>1.0</td>\n",
       "      <td>1</td>\n",
       "      <td>39.2</td>\n",
       "      <td>88.0</td>\n",
       "      <td>20.0</td>\n",
       "      <td>NaN</td>\n",
       "      <td>3.0</td>\n",
       "      <td>3.0</td>\n",
       "    </tr>\n",
       "    <tr>\n",
       "      <th>2</th>\n",
       "      <td>2.0</td>\n",
       "      <td>1</td>\n",
       "      <td>38.3</td>\n",
       "      <td>40.0</td>\n",
       "      <td>24.0</td>\n",
       "      <td>1.0</td>\n",
       "      <td>3.0</td>\n",
       "      <td>1.0</td>\n",
       "    </tr>\n",
       "    <tr>\n",
       "      <th>3</th>\n",
       "      <td>1.0</td>\n",
       "      <td>9</td>\n",
       "      <td>39.1</td>\n",
       "      <td>164.0</td>\n",
       "      <td>84.0</td>\n",
       "      <td>4.0</td>\n",
       "      <td>2.0</td>\n",
       "      <td>2.0</td>\n",
       "    </tr>\n",
       "    <tr>\n",
       "      <th>4</th>\n",
       "      <td>2.0</td>\n",
       "      <td>1</td>\n",
       "      <td>37.3</td>\n",
       "      <td>104.0</td>\n",
       "      <td>35.0</td>\n",
       "      <td>NaN</td>\n",
       "      <td>NaN</td>\n",
       "      <td>2.0</td>\n",
       "    </tr>\n",
       "    <tr>\n",
       "      <th>...</th>\n",
       "      <td>...</td>\n",
       "      <td>...</td>\n",
       "      <td>...</td>\n",
       "      <td>...</td>\n",
       "      <td>...</td>\n",
       "      <td>...</td>\n",
       "      <td>...</td>\n",
       "      <td>...</td>\n",
       "    </tr>\n",
       "    <tr>\n",
       "      <th>295</th>\n",
       "      <td>1.0</td>\n",
       "      <td>1</td>\n",
       "      <td>NaN</td>\n",
       "      <td>120.0</td>\n",
       "      <td>70.0</td>\n",
       "      <td>4.0</td>\n",
       "      <td>2.0</td>\n",
       "      <td>3.0</td>\n",
       "    </tr>\n",
       "    <tr>\n",
       "      <th>296</th>\n",
       "      <td>2.0</td>\n",
       "      <td>1</td>\n",
       "      <td>37.2</td>\n",
       "      <td>72.0</td>\n",
       "      <td>24.0</td>\n",
       "      <td>3.0</td>\n",
       "      <td>4.0</td>\n",
       "      <td>3.0</td>\n",
       "    </tr>\n",
       "    <tr>\n",
       "      <th>297</th>\n",
       "      <td>1.0</td>\n",
       "      <td>1</td>\n",
       "      <td>37.5</td>\n",
       "      <td>72.0</td>\n",
       "      <td>30.0</td>\n",
       "      <td>4.0</td>\n",
       "      <td>4.0</td>\n",
       "      <td>2.0</td>\n",
       "    </tr>\n",
       "    <tr>\n",
       "      <th>298</th>\n",
       "      <td>1.0</td>\n",
       "      <td>1</td>\n",
       "      <td>36.5</td>\n",
       "      <td>100.0</td>\n",
       "      <td>24.0</td>\n",
       "      <td>3.0</td>\n",
       "      <td>3.0</td>\n",
       "      <td>1.0</td>\n",
       "    </tr>\n",
       "    <tr>\n",
       "      <th>299</th>\n",
       "      <td>1.0</td>\n",
       "      <td>1</td>\n",
       "      <td>37.2</td>\n",
       "      <td>40.0</td>\n",
       "      <td>20.0</td>\n",
       "      <td>NaN</td>\n",
       "      <td>NaN</td>\n",
       "      <td>3.0</td>\n",
       "    </tr>\n",
       "  </tbody>\n",
       "</table>\n",
       "<p>300 rows × 8 columns</p>\n",
       "</div>"
      ],
      "text/plain": [
       "     surgery?  Age  rectal temperature  pulse  respiratory rate  \\\n",
       "0         2.0    1                38.5   66.0              28.0   \n",
       "1         1.0    1                39.2   88.0              20.0   \n",
       "2         2.0    1                38.3   40.0              24.0   \n",
       "3         1.0    9                39.1  164.0              84.0   \n",
       "4         2.0    1                37.3  104.0              35.0   \n",
       "..        ...  ...                 ...    ...               ...   \n",
       "295       1.0    1                 NaN  120.0              70.0   \n",
       "296       2.0    1                37.2   72.0              24.0   \n",
       "297       1.0    1                37.5   72.0              30.0   \n",
       "298       1.0    1                36.5  100.0              24.0   \n",
       "299       1.0    1                37.2   40.0              20.0   \n",
       "\n",
       "     temperature of extremities  pain  outcome  \n",
       "0                           3.0   5.0      2.0  \n",
       "1                           NaN   3.0      3.0  \n",
       "2                           1.0   3.0      1.0  \n",
       "3                           4.0   2.0      2.0  \n",
       "4                           NaN   NaN      2.0  \n",
       "..                          ...   ...      ...  \n",
       "295                         4.0   2.0      3.0  \n",
       "296                         3.0   4.0      3.0  \n",
       "297                         4.0   4.0      2.0  \n",
       "298                         3.0   3.0      1.0  \n",
       "299                         NaN   NaN      3.0  \n",
       "\n",
       "[300 rows x 8 columns]"
      ]
     },
     "execution_count": 2,
     "metadata": {},
     "output_type": "execute_result"
    }
   ],
   "source": [
    "%%time\n",
    "df = pd.read_csv('D:/DataSci/Python/Py_Stats/hw1/horse_data.csv', header=None, na_values = '?')\n",
    "df.drop(df.columns[[2,7,8,9,11,12,13,14,15,16,17,18,19,20,21,23,24,25,26,27]], axis=1, inplace=True)\n",
    "df.columns=['surgery?', 'Age', 'rectal temperature', 'pulse', 'respiratory rate', 'temperature of extremities', 'pain', 'outcome']\n",
    "df"
   ]
  },
  {
   "cell_type": "markdown",
   "id": "f356319f",
   "metadata": {},
   "source": [
    "### Задание 2. Первичное изучение данных\n",
    "\n",
    "Проанализировать значения по столбцам, рассчитать базовые статистики, найти выбросы."
   ]
  },
  {
   "cell_type": "code",
   "execution_count": 3,
   "id": "a24c6063",
   "metadata": {},
   "outputs": [],
   "source": [
    "base_stats = df.copy(deep=True)"
   ]
  },
  {
   "cell_type": "code",
   "execution_count": 4,
   "id": "dca1435b",
   "metadata": {},
   "outputs": [
    {
     "data": {
      "text/html": [
       "<div>\n",
       "<style scoped>\n",
       "    .dataframe tbody tr th:only-of-type {\n",
       "        vertical-align: middle;\n",
       "    }\n",
       "\n",
       "    .dataframe tbody tr th {\n",
       "        vertical-align: top;\n",
       "    }\n",
       "\n",
       "    .dataframe thead th {\n",
       "        text-align: right;\n",
       "    }\n",
       "</style>\n",
       "<table border=\"1\" class=\"dataframe\">\n",
       "  <thead>\n",
       "    <tr style=\"text-align: right;\">\n",
       "      <th></th>\n",
       "      <th>surgery?</th>\n",
       "      <th>Age</th>\n",
       "      <th>rectal temperature</th>\n",
       "      <th>pulse</th>\n",
       "      <th>respiratory rate</th>\n",
       "      <th>temperature of extremities</th>\n",
       "      <th>pain</th>\n",
       "      <th>outcome</th>\n",
       "    </tr>\n",
       "  </thead>\n",
       "  <tbody>\n",
       "    <tr>\n",
       "      <th>count</th>\n",
       "      <td>299.000000</td>\n",
       "      <td>300.000000</td>\n",
       "      <td>240.000000</td>\n",
       "      <td>276.000000</td>\n",
       "      <td>242.000000</td>\n",
       "      <td>244.000000</td>\n",
       "      <td>245.00000</td>\n",
       "      <td>299.000000</td>\n",
       "    </tr>\n",
       "    <tr>\n",
       "      <th>mean</th>\n",
       "      <td>1.397993</td>\n",
       "      <td>1.640000</td>\n",
       "      <td>38.167917</td>\n",
       "      <td>71.913043</td>\n",
       "      <td>30.417355</td>\n",
       "      <td>2.348361</td>\n",
       "      <td>2.95102</td>\n",
       "      <td>1.551839</td>\n",
       "    </tr>\n",
       "    <tr>\n",
       "      <th>std</th>\n",
       "      <td>0.490305</td>\n",
       "      <td>2.173972</td>\n",
       "      <td>0.732289</td>\n",
       "      <td>28.630557</td>\n",
       "      <td>17.642231</td>\n",
       "      <td>1.045054</td>\n",
       "      <td>1.30794</td>\n",
       "      <td>0.737187</td>\n",
       "    </tr>\n",
       "    <tr>\n",
       "      <th>min</th>\n",
       "      <td>1.000000</td>\n",
       "      <td>1.000000</td>\n",
       "      <td>35.400000</td>\n",
       "      <td>30.000000</td>\n",
       "      <td>8.000000</td>\n",
       "      <td>1.000000</td>\n",
       "      <td>1.00000</td>\n",
       "      <td>1.000000</td>\n",
       "    </tr>\n",
       "    <tr>\n",
       "      <th>25%</th>\n",
       "      <td>1.000000</td>\n",
       "      <td>1.000000</td>\n",
       "      <td>37.800000</td>\n",
       "      <td>48.000000</td>\n",
       "      <td>18.500000</td>\n",
       "      <td>1.000000</td>\n",
       "      <td>2.00000</td>\n",
       "      <td>1.000000</td>\n",
       "    </tr>\n",
       "    <tr>\n",
       "      <th>50%</th>\n",
       "      <td>1.000000</td>\n",
       "      <td>1.000000</td>\n",
       "      <td>38.200000</td>\n",
       "      <td>64.000000</td>\n",
       "      <td>24.500000</td>\n",
       "      <td>3.000000</td>\n",
       "      <td>3.00000</td>\n",
       "      <td>1.000000</td>\n",
       "    </tr>\n",
       "    <tr>\n",
       "      <th>75%</th>\n",
       "      <td>2.000000</td>\n",
       "      <td>1.000000</td>\n",
       "      <td>38.500000</td>\n",
       "      <td>88.000000</td>\n",
       "      <td>36.000000</td>\n",
       "      <td>3.000000</td>\n",
       "      <td>4.00000</td>\n",
       "      <td>2.000000</td>\n",
       "    </tr>\n",
       "    <tr>\n",
       "      <th>max</th>\n",
       "      <td>2.000000</td>\n",
       "      <td>9.000000</td>\n",
       "      <td>40.800000</td>\n",
       "      <td>184.000000</td>\n",
       "      <td>96.000000</td>\n",
       "      <td>4.000000</td>\n",
       "      <td>5.00000</td>\n",
       "      <td>3.000000</td>\n",
       "    </tr>\n",
       "  </tbody>\n",
       "</table>\n",
       "</div>"
      ],
      "text/plain": [
       "         surgery?         Age  rectal temperature       pulse  \\\n",
       "count  299.000000  300.000000          240.000000  276.000000   \n",
       "mean     1.397993    1.640000           38.167917   71.913043   \n",
       "std      0.490305    2.173972            0.732289   28.630557   \n",
       "min      1.000000    1.000000           35.400000   30.000000   \n",
       "25%      1.000000    1.000000           37.800000   48.000000   \n",
       "50%      1.000000    1.000000           38.200000   64.000000   \n",
       "75%      2.000000    1.000000           38.500000   88.000000   \n",
       "max      2.000000    9.000000           40.800000  184.000000   \n",
       "\n",
       "       respiratory rate  temperature of extremities       pain     outcome  \n",
       "count        242.000000                  244.000000  245.00000  299.000000  \n",
       "mean          30.417355                    2.348361    2.95102    1.551839  \n",
       "std           17.642231                    1.045054    1.30794    0.737187  \n",
       "min            8.000000                    1.000000    1.00000    1.000000  \n",
       "25%           18.500000                    1.000000    2.00000    1.000000  \n",
       "50%           24.500000                    3.000000    3.00000    1.000000  \n",
       "75%           36.000000                    3.000000    4.00000    2.000000  \n",
       "max           96.000000                    4.000000    5.00000    3.000000  "
      ]
     },
     "execution_count": 4,
     "metadata": {},
     "output_type": "execute_result"
    }
   ],
   "source": [
    "base_stats.describe()"
   ]
  },
  {
   "cell_type": "markdown",
   "id": "9b7f95d3",
   "metadata": {},
   "source": [
    "#### Среднеарифметическое"
   ]
  },
  {
   "cell_type": "code",
   "execution_count": 5,
   "id": "86d80f12",
   "metadata": {},
   "outputs": [
    {
     "name": "stdout",
     "output_type": "stream",
     "text": [
      "1.3979933110367893\n"
     ]
    }
   ],
   "source": [
    "print(base_stats['surgery?'].mean())"
   ]
  },
  {
   "cell_type": "markdown",
   "id": "e7aa5348",
   "metadata": {},
   "source": [
    "#### Мода"
   ]
  },
  {
   "cell_type": "code",
   "execution_count": 6,
   "id": "245c3d2c",
   "metadata": {},
   "outputs": [
    {
     "name": "stdout",
     "output_type": "stream",
     "text": [
      "1\n"
     ]
    }
   ],
   "source": [
    "print(base_stats['Age'].mode()[0])"
   ]
  },
  {
   "cell_type": "markdown",
   "id": "52602585",
   "metadata": {},
   "source": [
    "#### СКО"
   ]
  },
  {
   "cell_type": "code",
   "execution_count": 7,
   "id": "a70022e8",
   "metadata": {},
   "outputs": [
    {
     "name": "stdout",
     "output_type": "stream",
     "text": [
      "0.7322886641121578\n",
      "0.7322886641121578\n"
     ]
    }
   ],
   "source": [
    "print(base_stats['rectal temperature'].std())\n",
    "print(np.std(base_stats['rectal temperature'], ddof=1))"
   ]
  },
  {
   "cell_type": "markdown",
   "id": "79677209",
   "metadata": {},
   "source": [
    "#### Дисперсия"
   ]
  },
  {
   "cell_type": "code",
   "execution_count": 8,
   "id": "1f35d876",
   "metadata": {},
   "outputs": [
    {
     "name": "stdout",
     "output_type": "stream",
     "text": [
      "819.7087747035575\n",
      "819.7087747035575\n"
     ]
    }
   ],
   "source": [
    "print(base_stats['pulse'].var())\n",
    "print(np.var(base_stats['pulse'], ddof=1))"
   ]
  },
  {
   "cell_type": "markdown",
   "id": "c6e71956",
   "metadata": {},
   "source": [
    "#### Квантили"
   ]
  },
  {
   "cell_type": "code",
   "execution_count": 9,
   "id": "08b72d7b",
   "metadata": {},
   "outputs": [
    {
     "name": "stdout",
     "output_type": "stream",
     "text": [
      "64.0\n",
      "0.25    48.0\n",
      "0.75    88.0\n",
      "Name: pulse, dtype: float64\n",
      "52.0\n"
     ]
    }
   ],
   "source": [
    "print(base_stats['pulse'].quantile())\n",
    "print(base_stats['pulse'].quantile([0.25, 0.75]))\n",
    "print(base_stats['pulse'].quantile(0.33))"
   ]
  },
  {
   "cell_type": "code",
   "execution_count": 10,
   "id": "5259e69b",
   "metadata": {},
   "outputs": [
    {
     "data": {
      "text/plain": [
       "40.0"
      ]
     },
     "execution_count": 10,
     "metadata": {},
     "output_type": "execute_result"
    }
   ],
   "source": [
    "iqr = base_stats['pulse'].quantile(0.75) - base_stats['pulse'].quantile(0.25)\n",
    "iqr"
   ]
  },
  {
   "cell_type": "markdown",
   "id": "2a2e39be",
   "metadata": {},
   "source": [
    "#### Выбросы"
   ]
  },
  {
   "cell_type": "code",
   "execution_count": 11,
   "id": "87caed12",
   "metadata": {},
   "outputs": [
    {
     "name": "stderr",
     "output_type": "stream",
     "text": [
      "C:\\Users\\voron\\AppData\\Local\\Temp/ipykernel_11408/2760504138.py:4: FutureWarning: Boolean inputs to the `inclusive` argument are deprecated infavour of `both` or `neither`.\n",
      "  rem_out1 = base_stats[~base_stats['surgery?'].between(low1, upp1, inclusive=True)]\n"
     ]
    },
    {
     "data": {
      "text/plain": [
       "132   NaN\n",
       "Name: surgery?, dtype: float64"
      ]
     },
     "execution_count": 11,
     "metadata": {},
     "output_type": "execute_result"
    }
   ],
   "source": [
    "iqr1 = base_stats['surgery?'].quantile(0.75) - base_stats['surgery?'].quantile(0.25)\n",
    "low1 = base_stats['surgery?'].quantile(0.25) - (1.5 * iqr1)\n",
    "upp1 = base_stats['surgery?'].quantile(0.75) + (1.5 * iqr1)\n",
    "rem_out1 = base_stats[~base_stats['surgery?'].between(low1, upp1, inclusive=True)]\n",
    "rem_out1['surgery?']"
   ]
  },
  {
   "cell_type": "code",
   "execution_count": 12,
   "id": "88f1c2ca",
   "metadata": {},
   "outputs": [
    {
     "name": "stderr",
     "output_type": "stream",
     "text": [
      "C:\\Users\\voron\\AppData\\Local\\Temp/ipykernel_11408/3799872930.py:4: FutureWarning: Boolean inputs to the `inclusive` argument are deprecated infavour of `both` or `neither`.\n",
      "  rem_out2 = base_stats[~base_stats['Age'].between(low2, upp2, inclusive=True)]\n"
     ]
    },
    {
     "data": {
      "text/plain": [
       "3      9\n",
       "9      9\n",
       "13     9\n",
       "16     9\n",
       "23     9\n",
       "39     9\n",
       "41     9\n",
       "55     9\n",
       "74     9\n",
       "75     9\n",
       "82     9\n",
       "103    9\n",
       "109    9\n",
       "135    9\n",
       "191    9\n",
       "212    9\n",
       "227    9\n",
       "229    9\n",
       "244    9\n",
       "252    9\n",
       "255    9\n",
       "262    9\n",
       "275    9\n",
       "287    9\n",
       "Name: Age, dtype: int64"
      ]
     },
     "execution_count": 12,
     "metadata": {},
     "output_type": "execute_result"
    }
   ],
   "source": [
    "iqr2 = base_stats['Age'].quantile(0.75) - base_stats['Age'].quantile(0.25)\n",
    "low2 = base_stats['Age'].quantile(0.25) - (1.5 * iqr2)\n",
    "upp2 = base_stats['Age'].quantile(0.75) + (1.5 * iqr2)\n",
    "rem_out2 = base_stats[~base_stats['Age'].between(low2, upp2, inclusive=True)]\n",
    "rem_out2['Age']"
   ]
  },
  {
   "cell_type": "code",
   "execution_count": 13,
   "id": "8ec5602c",
   "metadata": {},
   "outputs": [
    {
     "name": "stderr",
     "output_type": "stream",
     "text": [
      "C:\\Users\\voron\\AppData\\Local\\Temp/ipykernel_11408/2382407469.py:4: FutureWarning: Boolean inputs to the `inclusive` argument are deprecated infavour of `both` or `neither`.\n",
      "  rem_out3 = base_stats[~base_stats['rectal temperature'].between(low3, upp3, inclusive=True)]\n"
     ]
    },
    {
     "data": {
      "text/plain": [
       "5      NaN\n",
       "7      NaN\n",
       "8      NaN\n",
       "16     NaN\n",
       "20    39.9\n",
       "28     NaN\n",
       "34     NaN\n",
       "35     NaN\n",
       "40     NaN\n",
       "43     NaN\n",
       "44    35.4\n",
       "45     NaN\n",
       "52     NaN\n",
       "54    40.3\n",
       "56     NaN\n",
       "Name: rectal temperature, dtype: float64"
      ]
     },
     "execution_count": 13,
     "metadata": {},
     "output_type": "execute_result"
    }
   ],
   "source": [
    "iqr3 = base_stats['rectal temperature'].quantile(0.75) - base_stats['rectal temperature'].quantile(0.25)\n",
    "low3 = base_stats['rectal temperature'].quantile(0.25) - (1.5 * iqr3)\n",
    "upp3 = base_stats['rectal temperature'].quantile(0.75) + (1.5 * iqr3)\n",
    "rem_out3 = base_stats[~base_stats['rectal temperature'].between(low3, upp3, inclusive=True)]\n",
    "rem_out3['rectal temperature'].head(15)"
   ]
  },
  {
   "cell_type": "code",
   "execution_count": 14,
   "id": "c3fde388",
   "metadata": {},
   "outputs": [
    {
     "name": "stderr",
     "output_type": "stream",
     "text": [
      "C:\\Users\\voron\\AppData\\Local\\Temp/ipykernel_11408/767352541.py:4: FutureWarning: Boolean inputs to the `inclusive` argument are deprecated infavour of `both` or `neither`.\n",
      "  rem_out4 = base_stats[~base_stats['pulse'].between(low4, upp4, inclusive=True)]\n"
     ]
    },
    {
     "data": {
      "text/plain": [
       "3      164.0\n",
       "5        NaN\n",
       "28       NaN\n",
       "41     150.0\n",
       "52       NaN\n",
       "55     160.0\n",
       "56       NaN\n",
       "58       NaN\n",
       "74       NaN\n",
       "78       NaN\n",
       "83       NaN\n",
       "93       NaN\n",
       "115      NaN\n",
       "117      NaN\n",
       "126      NaN\n",
       "136      NaN\n",
       "151      NaN\n",
       "159      NaN\n",
       "160      NaN\n",
       "174      NaN\n",
       "175      NaN\n",
       "182      NaN\n",
       "204      NaN\n",
       "207      NaN\n",
       "216      NaN\n",
       "227      NaN\n",
       "255    184.0\n",
       "275    150.0\n",
       "288      NaN\n",
       "Name: pulse, dtype: float64"
      ]
     },
     "execution_count": 14,
     "metadata": {},
     "output_type": "execute_result"
    }
   ],
   "source": [
    "iqr4 = base_stats['pulse'].quantile(0.75) - base_stats['pulse'].quantile(0.25)\n",
    "low4 = base_stats['pulse'].quantile(0.25) - (1.5 * iqr4)\n",
    "upp4 = base_stats['pulse'].quantile(0.75) + (1.5 * iqr4)\n",
    "rem_out4 = base_stats[~base_stats['pulse'].between(low4, upp4, inclusive=True)]\n",
    "rem_out4['pulse']"
   ]
  },
  {
   "cell_type": "markdown",
   "id": "4c785388",
   "metadata": {},
   "source": [
    "### Задание 3. Работа с пропусками\n",
    "Рассчитать количество пропусков для всех выбранных столбцов. Принять и обосновать решение о методе заполнения пропусков по каждому столбцу на основе рассчитанных статистик и возможной взаимосвязи значений в них. Сформировать датафрейм, в котором пропуски будут отсутствовать."
   ]
  },
  {
   "cell_type": "code",
   "execution_count": 15,
   "id": "3a6a6144",
   "metadata": {},
   "outputs": [
    {
     "data": {
      "text/plain": [
       "surgery?                       1.0\n",
       "Age                            0.0\n",
       "rectal temperature            60.0\n",
       "pulse                         24.0\n",
       "respiratory rate              58.0\n",
       "temperature of extremities    56.0\n",
       "pain                          55.0\n",
       "outcome                        1.0\n",
       "dtype: float64"
      ]
     },
     "execution_count": 15,
     "metadata": {},
     "output_type": "execute_result"
    }
   ],
   "source": [
    "df.isna().mean() * len(df)"
   ]
  },
  {
   "cell_type": "code",
   "execution_count": 16,
   "id": "5a02dcb1",
   "metadata": {},
   "outputs": [],
   "source": [
    "new_df = df.copy(deep=True)"
   ]
  },
  {
   "cell_type": "code",
   "execution_count": 26,
   "id": "445bd7c5",
   "metadata": {},
   "outputs": [],
   "source": [
    "new_df['surgery?'] = new_df['surgery?'].fillna(new_df['surgery?'].mean())"
   ]
  },
  {
   "cell_type": "code",
   "execution_count": 27,
   "id": "f2f8647c",
   "metadata": {},
   "outputs": [],
   "source": [
    "new_df['rectal temperature'] = new_df['rectal temperature'].fillna(new_df['rectal temperature'].median())"
   ]
  },
  {
   "cell_type": "code",
   "execution_count": 28,
   "id": "803c776e",
   "metadata": {},
   "outputs": [],
   "source": [
    "new_df['pulse'] = new_df['pulse'].fillna(new_df['pulse'].median())"
   ]
  },
  {
   "cell_type": "code",
   "execution_count": 35,
   "id": "2623ab4c",
   "metadata": {},
   "outputs": [],
   "source": [
    "new_df['respiratory rate'] = new_df['respiratory rate'].fillna(new_df.groupby('pulse')['respiratory rate'].transform('median'))"
   ]
  },
  {
   "cell_type": "code",
   "execution_count": 30,
   "id": "fff9626a",
   "metadata": {},
   "outputs": [],
   "source": [
    "new_df['temperature of extremities'] = new_df['temperature of extremities'].fillna(new_df.groupby('pain')['temperature of extremities'].transform('median'))"
   ]
  },
  {
   "cell_type": "code",
   "execution_count": 31,
   "id": "07d71036",
   "metadata": {},
   "outputs": [],
   "source": [
    "new_df['pain'] = new_df['pain'].fillna(new_df['pain'].median())"
   ]
  },
  {
   "cell_type": "code",
   "execution_count": 32,
   "id": "69a8eaed",
   "metadata": {},
   "outputs": [],
   "source": [
    "new_df['outcome'] = new_df['outcome'].fillna(new_df.groupby(['pulse', 'rectal temperature'])['outcome'].transform('median'))"
   ]
  },
  {
   "cell_type": "code",
   "execution_count": 36,
   "id": "ce42e417",
   "metadata": {},
   "outputs": [
    {
     "data": {
      "text/html": [
       "<div>\n",
       "<style scoped>\n",
       "    .dataframe tbody tr th:only-of-type {\n",
       "        vertical-align: middle;\n",
       "    }\n",
       "\n",
       "    .dataframe tbody tr th {\n",
       "        vertical-align: top;\n",
       "    }\n",
       "\n",
       "    .dataframe thead th {\n",
       "        text-align: right;\n",
       "    }\n",
       "</style>\n",
       "<table border=\"1\" class=\"dataframe\">\n",
       "  <thead>\n",
       "    <tr style=\"text-align: right;\">\n",
       "      <th></th>\n",
       "      <th>surgery?</th>\n",
       "      <th>Age</th>\n",
       "      <th>rectal temperature</th>\n",
       "      <th>pulse</th>\n",
       "      <th>respiratory rate</th>\n",
       "      <th>temperature of extremities</th>\n",
       "      <th>pain</th>\n",
       "      <th>outcome</th>\n",
       "    </tr>\n",
       "  </thead>\n",
       "  <tbody>\n",
       "    <tr>\n",
       "      <th>0</th>\n",
       "      <td>2.0</td>\n",
       "      <td>1</td>\n",
       "      <td>38.5</td>\n",
       "      <td>66.0</td>\n",
       "      <td>28.0</td>\n",
       "      <td>3.0</td>\n",
       "      <td>5.0</td>\n",
       "      <td>2.0</td>\n",
       "    </tr>\n",
       "    <tr>\n",
       "      <th>1</th>\n",
       "      <td>1.0</td>\n",
       "      <td>1</td>\n",
       "      <td>39.2</td>\n",
       "      <td>88.0</td>\n",
       "      <td>20.0</td>\n",
       "      <td>2.0</td>\n",
       "      <td>3.0</td>\n",
       "      <td>3.0</td>\n",
       "    </tr>\n",
       "    <tr>\n",
       "      <th>2</th>\n",
       "      <td>2.0</td>\n",
       "      <td>1</td>\n",
       "      <td>38.3</td>\n",
       "      <td>40.0</td>\n",
       "      <td>24.0</td>\n",
       "      <td>1.0</td>\n",
       "      <td>3.0</td>\n",
       "      <td>1.0</td>\n",
       "    </tr>\n",
       "    <tr>\n",
       "      <th>3</th>\n",
       "      <td>1.0</td>\n",
       "      <td>9</td>\n",
       "      <td>39.1</td>\n",
       "      <td>164.0</td>\n",
       "      <td>84.0</td>\n",
       "      <td>4.0</td>\n",
       "      <td>2.0</td>\n",
       "      <td>2.0</td>\n",
       "    </tr>\n",
       "    <tr>\n",
       "      <th>4</th>\n",
       "      <td>2.0</td>\n",
       "      <td>1</td>\n",
       "      <td>37.3</td>\n",
       "      <td>104.0</td>\n",
       "      <td>35.0</td>\n",
       "      <td>2.0</td>\n",
       "      <td>3.0</td>\n",
       "      <td>2.0</td>\n",
       "    </tr>\n",
       "    <tr>\n",
       "      <th>...</th>\n",
       "      <td>...</td>\n",
       "      <td>...</td>\n",
       "      <td>...</td>\n",
       "      <td>...</td>\n",
       "      <td>...</td>\n",
       "      <td>...</td>\n",
       "      <td>...</td>\n",
       "      <td>...</td>\n",
       "    </tr>\n",
       "    <tr>\n",
       "      <th>295</th>\n",
       "      <td>1.0</td>\n",
       "      <td>1</td>\n",
       "      <td>38.2</td>\n",
       "      <td>120.0</td>\n",
       "      <td>70.0</td>\n",
       "      <td>4.0</td>\n",
       "      <td>2.0</td>\n",
       "      <td>3.0</td>\n",
       "    </tr>\n",
       "    <tr>\n",
       "      <th>296</th>\n",
       "      <td>2.0</td>\n",
       "      <td>1</td>\n",
       "      <td>37.2</td>\n",
       "      <td>72.0</td>\n",
       "      <td>24.0</td>\n",
       "      <td>3.0</td>\n",
       "      <td>4.0</td>\n",
       "      <td>3.0</td>\n",
       "    </tr>\n",
       "    <tr>\n",
       "      <th>297</th>\n",
       "      <td>1.0</td>\n",
       "      <td>1</td>\n",
       "      <td>37.5</td>\n",
       "      <td>72.0</td>\n",
       "      <td>30.0</td>\n",
       "      <td>4.0</td>\n",
       "      <td>4.0</td>\n",
       "      <td>2.0</td>\n",
       "    </tr>\n",
       "    <tr>\n",
       "      <th>298</th>\n",
       "      <td>1.0</td>\n",
       "      <td>1</td>\n",
       "      <td>36.5</td>\n",
       "      <td>100.0</td>\n",
       "      <td>24.0</td>\n",
       "      <td>3.0</td>\n",
       "      <td>3.0</td>\n",
       "      <td>1.0</td>\n",
       "    </tr>\n",
       "    <tr>\n",
       "      <th>299</th>\n",
       "      <td>1.0</td>\n",
       "      <td>1</td>\n",
       "      <td>37.2</td>\n",
       "      <td>40.0</td>\n",
       "      <td>20.0</td>\n",
       "      <td>2.0</td>\n",
       "      <td>3.0</td>\n",
       "      <td>3.0</td>\n",
       "    </tr>\n",
       "  </tbody>\n",
       "</table>\n",
       "<p>300 rows × 8 columns</p>\n",
       "</div>"
      ],
      "text/plain": [
       "     surgery?  Age  rectal temperature  pulse  respiratory rate  \\\n",
       "0         2.0    1                38.5   66.0              28.0   \n",
       "1         1.0    1                39.2   88.0              20.0   \n",
       "2         2.0    1                38.3   40.0              24.0   \n",
       "3         1.0    9                39.1  164.0              84.0   \n",
       "4         2.0    1                37.3  104.0              35.0   \n",
       "..        ...  ...                 ...    ...               ...   \n",
       "295       1.0    1                38.2  120.0              70.0   \n",
       "296       2.0    1                37.2   72.0              24.0   \n",
       "297       1.0    1                37.5   72.0              30.0   \n",
       "298       1.0    1                36.5  100.0              24.0   \n",
       "299       1.0    1                37.2   40.0              20.0   \n",
       "\n",
       "     temperature of extremities  pain  outcome  \n",
       "0                           3.0   5.0      2.0  \n",
       "1                           2.0   3.0      3.0  \n",
       "2                           1.0   3.0      1.0  \n",
       "3                           4.0   2.0      2.0  \n",
       "4                           2.0   3.0      2.0  \n",
       "..                          ...   ...      ...  \n",
       "295                         4.0   2.0      3.0  \n",
       "296                         3.0   4.0      3.0  \n",
       "297                         4.0   4.0      2.0  \n",
       "298                         3.0   3.0      1.0  \n",
       "299                         2.0   3.0      3.0  \n",
       "\n",
       "[300 rows x 8 columns]"
      ]
     },
     "execution_count": 36,
     "metadata": {},
     "output_type": "execute_result"
    }
   ],
   "source": [
    "new_df"
   ]
  },
  {
   "cell_type": "code",
   "execution_count": 37,
   "id": "05ff140c",
   "metadata": {},
   "outputs": [
    {
     "data": {
      "text/html": [
       "<div>\n",
       "<style scoped>\n",
       "    .dataframe tbody tr th:only-of-type {\n",
       "        vertical-align: middle;\n",
       "    }\n",
       "\n",
       "    .dataframe tbody tr th {\n",
       "        vertical-align: top;\n",
       "    }\n",
       "\n",
       "    .dataframe thead th {\n",
       "        text-align: right;\n",
       "    }\n",
       "</style>\n",
       "<table border=\"1\" class=\"dataframe\">\n",
       "  <thead>\n",
       "    <tr style=\"text-align: right;\">\n",
       "      <th></th>\n",
       "      <th>surgery?</th>\n",
       "      <th>Age</th>\n",
       "      <th>rectal temperature</th>\n",
       "      <th>pulse</th>\n",
       "      <th>respiratory rate</th>\n",
       "      <th>temperature of extremities</th>\n",
       "      <th>pain</th>\n",
       "      <th>outcome</th>\n",
       "    </tr>\n",
       "  </thead>\n",
       "  <tbody>\n",
       "    <tr>\n",
       "      <th>count</th>\n",
       "      <td>300.000000</td>\n",
       "      <td>300.000000</td>\n",
       "      <td>300.000000</td>\n",
       "      <td>300.000000</td>\n",
       "      <td>297.000000</td>\n",
       "      <td>300.000000</td>\n",
       "      <td>300.000000</td>\n",
       "      <td>300.000000</td>\n",
       "    </tr>\n",
       "    <tr>\n",
       "      <th>mean</th>\n",
       "      <td>1.397993</td>\n",
       "      <td>1.640000</td>\n",
       "      <td>38.174333</td>\n",
       "      <td>71.280000</td>\n",
       "      <td>30.122896</td>\n",
       "      <td>2.326667</td>\n",
       "      <td>2.960000</td>\n",
       "      <td>1.550000</td>\n",
       "    </tr>\n",
       "    <tr>\n",
       "      <th>std</th>\n",
       "      <td>0.489484</td>\n",
       "      <td>2.173972</td>\n",
       "      <td>0.654831</td>\n",
       "      <td>27.541545</td>\n",
       "      <td>16.216521</td>\n",
       "      <td>0.963353</td>\n",
       "      <td>1.181689</td>\n",
       "      <td>0.736642</td>\n",
       "    </tr>\n",
       "    <tr>\n",
       "      <th>min</th>\n",
       "      <td>1.000000</td>\n",
       "      <td>1.000000</td>\n",
       "      <td>35.400000</td>\n",
       "      <td>30.000000</td>\n",
       "      <td>8.000000</td>\n",
       "      <td>1.000000</td>\n",
       "      <td>1.000000</td>\n",
       "      <td>1.000000</td>\n",
       "    </tr>\n",
       "    <tr>\n",
       "      <th>25%</th>\n",
       "      <td>1.000000</td>\n",
       "      <td>1.000000</td>\n",
       "      <td>37.900000</td>\n",
       "      <td>48.000000</td>\n",
       "      <td>20.000000</td>\n",
       "      <td>1.000000</td>\n",
       "      <td>2.000000</td>\n",
       "      <td>1.000000</td>\n",
       "    </tr>\n",
       "    <tr>\n",
       "      <th>50%</th>\n",
       "      <td>1.000000</td>\n",
       "      <td>1.000000</td>\n",
       "      <td>38.200000</td>\n",
       "      <td>64.000000</td>\n",
       "      <td>26.000000</td>\n",
       "      <td>2.500000</td>\n",
       "      <td>3.000000</td>\n",
       "      <td>1.000000</td>\n",
       "    </tr>\n",
       "    <tr>\n",
       "      <th>75%</th>\n",
       "      <td>2.000000</td>\n",
       "      <td>1.000000</td>\n",
       "      <td>38.500000</td>\n",
       "      <td>88.000000</td>\n",
       "      <td>36.000000</td>\n",
       "      <td>3.000000</td>\n",
       "      <td>4.000000</td>\n",
       "      <td>2.000000</td>\n",
       "    </tr>\n",
       "    <tr>\n",
       "      <th>max</th>\n",
       "      <td>2.000000</td>\n",
       "      <td>9.000000</td>\n",
       "      <td>40.800000</td>\n",
       "      <td>184.000000</td>\n",
       "      <td>96.000000</td>\n",
       "      <td>4.000000</td>\n",
       "      <td>5.000000</td>\n",
       "      <td>3.000000</td>\n",
       "    </tr>\n",
       "  </tbody>\n",
       "</table>\n",
       "</div>"
      ],
      "text/plain": [
       "         surgery?         Age  rectal temperature       pulse  \\\n",
       "count  300.000000  300.000000          300.000000  300.000000   \n",
       "mean     1.397993    1.640000           38.174333   71.280000   \n",
       "std      0.489484    2.173972            0.654831   27.541545   \n",
       "min      1.000000    1.000000           35.400000   30.000000   \n",
       "25%      1.000000    1.000000           37.900000   48.000000   \n",
       "50%      1.000000    1.000000           38.200000   64.000000   \n",
       "75%      2.000000    1.000000           38.500000   88.000000   \n",
       "max      2.000000    9.000000           40.800000  184.000000   \n",
       "\n",
       "       respiratory rate  temperature of extremities        pain     outcome  \n",
       "count        297.000000                  300.000000  300.000000  300.000000  \n",
       "mean          30.122896                    2.326667    2.960000    1.550000  \n",
       "std           16.216521                    0.963353    1.181689    0.736642  \n",
       "min            8.000000                    1.000000    1.000000    1.000000  \n",
       "25%           20.000000                    1.000000    2.000000    1.000000  \n",
       "50%           26.000000                    2.500000    3.000000    1.000000  \n",
       "75%           36.000000                    3.000000    4.000000    2.000000  \n",
       "max           96.000000                    4.000000    5.000000    3.000000  "
      ]
     },
     "execution_count": 37,
     "metadata": {},
     "output_type": "execute_result"
    }
   ],
   "source": [
    "new_df.describe()"
   ]
  }
 ],
 "metadata": {
  "kernelspec": {
   "display_name": "Python 3 (ipykernel)",
   "language": "python",
   "name": "python3"
  },
  "language_info": {
   "codemirror_mode": {
    "name": "ipython",
    "version": 3
   },
   "file_extension": ".py",
   "mimetype": "text/x-python",
   "name": "python",
   "nbconvert_exporter": "python",
   "pygments_lexer": "ipython3",
   "version": "3.9.7"
  }
 },
 "nbformat": 4,
 "nbformat_minor": 5
}
